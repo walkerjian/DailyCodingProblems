{
  "nbformat": 4,
  "nbformat_minor": 0,
  "metadata": {
    "colab": {
      "provenance": [],
      "authorship_tag": "ABX9TyPJT7aWEkjl04qsEFkddbQJ",
      "include_colab_link": true
    },
    "kernelspec": {
      "name": "python3",
      "display_name": "Python 3"
    },
    "language_info": {
      "name": "python"
    }
  },
  "cells": [
    {
      "cell_type": "markdown",
      "metadata": {
        "id": "view-in-github",
        "colab_type": "text"
      },
      "source": [
        "<a href=\"https://colab.research.google.com/github/walkerjian/Physics/blob/main/Distance.ipynb\" target=\"_parent\"><img src=\"https://colab.research.google.com/assets/colab-badge.svg\" alt=\"Open In Colab\"/></a>"
      ]
    },
    {
      "cell_type": "markdown",
      "source": [
        "#Write a python function that calculates the distance between any two latitudes and longitudes on earth"
      ],
      "metadata": {
        "id": "UDi2a8gePwYE"
      }
    },
    {
      "cell_type": "markdown",
      "source": [
        "To calculate the distance between two points on the Earth given their latitude and longitude, the Haversine formula is commonly used. This formula accounts for the Earth's curvature and is widely used in navigation.\n",
        "\n",
        "Here's a Python function to implement the Haversine formula:\n",
        "\n"
      ],
      "metadata": {
        "id": "Ub2jgHz3QC8e"
      }
    },
    {
      "cell_type": "code",
      "execution_count": 5,
      "metadata": {
        "colab": {
          "base_uri": "https://localhost:8080/"
        },
        "id": "oKntRJeUNQu4",
        "outputId": "f9f5ffa0-9e0e-494b-d9df-9d5eb59a58ba"
      },
      "outputs": [
        {
          "output_type": "stream",
          "name": "stdout",
          "text": [
            "Distance: 1315.5101556559905 kilometers\n"
          ]
        }
      ],
      "source": [
        "import math\n",
        "\n",
        "def haversine(lat1, lon1, lat2, lon2):\n",
        "    # Convert latitude and longitude from degrees to radians\n",
        "    lat1, lon1, lat2, lon2 = map(math.radians, [lat1, lon1, lat2, lon2])\n",
        "\n",
        "    # Haversine formula\n",
        "    dlat = lat2 - lat1\n",
        "    dlon = lon2 - lon1\n",
        "    a = math.sin(dlat / 2)**2 + math.cos(lat1) * math.cos(lat2) * math.sin(dlon / 2)**2\n",
        "    c = 2 * math.asin(math.sqrt(a))\n",
        "\n",
        "    # Radius of Earth in kilometers. Use 3956 for miles\n",
        "    r = 6371\n",
        "\n",
        "    # Calculate the result\n",
        "    return c * r\n",
        "\n",
        "# Example usage\n",
        "distance = haversine(52.2296756, 21.0122287, 41.8919300, 12.5113300)\n",
        "print(f\"Distance: {distance} kilometers\")\n"
      ]
    },
    {
      "cell_type": "markdown",
      "source": [
        "This function takes four arguments: the latitudes and longitudes of the two points. It returns the distance between these points in kilometers. You can change the radius (`r`) to 3956 to get the distance in miles. The example usage calculates the distance between Warsaw, Poland, and Rome, Italy."
      ],
      "metadata": {
        "id": "Y_-WtXDHQKK8"
      }
    },
    {
      "cell_type": "markdown",
      "source": [
        "##Accuracy:\n",
        "\n",
        "The Haversine formula is generally quite accurate for calculating distances between two points on the Earth's surface. Its accuracy is typically sufficient for most applications, especially where high precision is not crucial. However, there are some factors to consider regarding its accuracy:\n",
        "\n",
        "1. **Spherical Model of the Earth**: The Haversine formula assumes the Earth is a perfect sphere, but in reality, it's more of an oblate spheroid (slightly flattened at the poles and bulging at the equator). This assumption can lead to small errors, especially over long distances.\n",
        "\n",
        "2. **Altitude**: The Haversine formula does not take into account differences in altitude between the two points. If you're calculating distances between points at significantly different altitudes, this could introduce an additional source of error.\n",
        "\n",
        "3. **Accuracy for Short Distances**: For very short distances, the formula can be less accurate due to the rounding errors in floating-point arithmetic. However, this inaccuracy is usually negligible.\n",
        "\n",
        "4. **Geodesic Distance**: For the highest accuracy, especially over longer distances, the Vincenty formula or other algorithms that consider the Earth's ellipsoidal shape can be used. These are more complex but can provide better accuracy.\n",
        "\n",
        "In summary, the Haversine formula offers a good balance between simplicity and accuracy for many practical purposes, especially over moderate distances. For most applications, such as basic navigation, mapping, and location services, it's sufficiently accurate. For very high-precision requirements or very long distances, more complex formulas might be more suitable.\n",
        "\n",
        "For a more accurate distance calculation that accounts for the Earth's ellipsoidal shape, we can use the Vincenty formula. The Vincenty formula is more complex than the Haversine formula but provides better accuracy, especially for long distances.\n",
        "\n",
        "In addition to the distance calculation, estimating the uncertainty of the measurement is more challenging. Uncertainty can arise from various sources, such as the precision of the latitude and longitude values and the accuracy of the Earth model used. However, providing a precise uncertainty estimate requires detailed knowledge about these factors, which is typically not available in most use cases. Instead, I can provide a general statement about the expected accuracy of the Vincenty formula.\n",
        "\n",
        "First, let's implement the Vincenty formula in Python:"
      ],
      "metadata": {
        "id": "_UfgTdiYQOoV"
      }
    },
    {
      "cell_type": "code",
      "source": [
        "import math\n",
        "\n",
        "def vincenty_distance(lat1, lon1, lat2, lon2):\n",
        "    # WGS-84 ellipsiod parameters\n",
        "    a = 6378137.0  # Semi-major axis\n",
        "    f = 1 / 298.257223563  # Flattening\n",
        "    b = (1 - f) * a\n",
        "\n",
        "    # Convert latitudes and longitudes from degrees to radians\n",
        "    lat1, lon1, lat2, lon2 = map(math.radians, [lat1, lon1, lat2, lon2])\n",
        "\n",
        "    U1 = math.atan((1 - f) * math.tan(lat1))\n",
        "    U2 = math.atan((1 - f) * math.tan(lat2))\n",
        "    L = lon2 - lon1\n",
        "    Lambda = L\n",
        "    sinU1 = math.sin(U1)\n",
        "    cosU1 = math.cos(U1)\n",
        "    sinU2 = math.sin(U2)\n",
        "    cosU2 = math.cos(U2)\n",
        "\n",
        "    # Iterate until change in lambda is negligible (e.g., < 1e-12)\n",
        "    for _ in range(1000):\n",
        "        sinLambda = math.sin(Lambda)\n",
        "        cosLambda = math.cos(Lambda)\n",
        "        sinSigma = math.sqrt((cosU2 * sinLambda) ** 2 + (cosU1 * sinU2 - sinU1 * cosU2 * cosLambda) ** 2)\n",
        "        cosSigma = sinU1 * sinU2 + cosU1 * cosU2 * cosLambda\n",
        "        sigma = math.atan2(sinSigma, cosSigma)\n",
        "        sinAlpha = cosU1 * cosU2 * sinLambda / sinSigma\n",
        "        cos2Alpha = 1 - sinAlpha ** 2\n",
        "        cos2SigmaM = cosSigma - 2 * sinU1 * sinU2 / cos2Alpha\n",
        "        C = f / 16 * cos2Alpha * (4 + f * (4 - 3 * cos2Alpha))\n",
        "        Lambda_prev = Lambda\n",
        "        Lambda = L + (1 - C) * f * sinAlpha * (sigma + C * sinSigma * (cos2SigmaM + C * cosSigma * (-1 + 2 * cos2SigmaM ** 2)))\n",
        "\n",
        "        if abs(Lambda - Lambda_prev) < 1e-12:\n",
        "            break\n",
        "\n",
        "    u2 = cos2Alpha * (a ** 2 - b ** 2) / (b ** 2)\n",
        "    A = 1 + u2 / 16384 * (4096 + u2 * (-768 + u2 * (320 - 175 * u2)))\n",
        "    B = u2 / 1024 * (256 + u2 * (-128 + u2 * (74 - 47 * u2)))\n",
        "    deltaSigma = B * sinSigma * (cos2SigmaM + B / 4 * (cosSigma * (-1 + 2 * cos2SigmaM ** 2) - B / 6 * cos2SigmaM * (-3 + 4 * sinSigma ** 2) * (-3 + 4 * cos2SigmaM ** 2)))\n",
        "\n",
        "    # Calculate distance\n",
        "    s = b * A * (sigma - deltaSigma)\n",
        "\n",
        "    return s\n",
        "\n",
        "# Example usage\n",
        "distance = vincenty_distance(52.2296756, 21.0122287, 41.8919300, 12.5113300)\n",
        "print(f\"Distance: {distance} meters\")\n"
      ],
      "metadata": {
        "colab": {
          "base_uri": "https://localhost:8080/"
        },
        "id": "OveGpw_FNiJS",
        "outputId": "86a8695e-e660-4248-c899-ce6c544b4ccc"
      },
      "execution_count": 2,
      "outputs": [
        {
          "output_type": "stream",
          "name": "stdout",
          "text": [
            "Distance: 1316208.0833047715 meters\n"
          ]
        }
      ]
    },
    {
      "cell_type": "markdown",
      "source": [
        "This function calculates the distance between two points specified in latitude and longitude, using the Vincenty formula.\n",
        "\n",
        "##Uncertainty:\n",
        "Regarding uncertainty, it's difficult to quantify without specific error margins on the input coordinates. However, the Vincenty formula itself, when used with high-precision coordinates and a detailed Earth model like WGS-84, typically achieves accuracies within 0.5 meters over long distances. Keep in mind, this accuracy can be affected by the precision of the input coordinates. For most practical applications, the error due to coordinate precision is likely to be larger than the error from the distance calculation method itself.\n",
        "\n",
        "In the context of estimating the uncertainty in distance calculations like the Haversine or Vincenty formulas, if you're referring to the differential calculus approach, then yes, you would need to consider multiple calculations for each latitude and longitude argument. Specifically, you would perform the following steps for each argument (latitude and longitude for both points):\n",
        "\n",
        "1. **Calculate the Partial Derivative**: For each latitude and longitude input, calculate the partial derivative of the distance formula with respect to that input. This derivative represents how a small change in the input (latitude or longitude) affects the calculated distance.\n",
        "\n",
        "2. **Estimate the Uncertainty of Each Input**: Determine the uncertainty in each input value (latitude and longitude). This uncertainty could be based on the precision of the measurement (e.g., GPS accuracy).\n",
        "\n",
        "3. **Apply Error Propagation**: Use the principles of error propagation to combine the uncertainties of the input values. This often involves squaring the partial derivatives, multiplying each by the squared uncertainty of the corresponding input, and then taking the square root of the sum of these values.\n",
        "\n",
        "Here's a simplified representation:\n",
        "\n",
        "- Let  $d $ be the calculated distance.\n",
        "- Let  $\\sigma_{\\text{lat1}}$, $\\sigma_{\\text{lon1}}$, $\\sigma_{\\text{lat2}}$, $\\sigma_{\\text{lon2}} $ be the uncertainties in latitude and longitude for points 1 and 2.\n",
        "- The total uncertainty in the distance,  $\\sigma_d $, can be estimated as:\n",
        "\n",
        "$\n",
        "\\sigma_d = \\sqrt{\\left( \\frac{\\partial d}{\\partial \\text{lat1}} \\cdot \\sigma_{\\text{lat1}} \\right)^2 + \\left( \\frac{\\partial d}{\\partial \\text{lon1}} \\cdot \\sigma_{\\text{lon1}} \\right)^2 + \\left( \\frac{\\partial d}{\\partial \\text{lat2}} \\cdot \\sigma_{\\text{lat2}} \\right)^2 + \\left( \\frac{\\partial d}{\\partial \\text{lon2}} \\cdot \\sigma_{\\text{lon2}} \\right)^2}\n",
        "$\n",
        "\n",
        "This process, especially for complex formulas like Vincenty's, can be mathematically intensive and may require numerical methods to compute the partial derivatives.\n",
        "\n",
        "For practical applications, especially when high precision isn't crucial, a more approximate method might be sufficient, like considering the uncertainty in the position to be the same for all points and then estimating how this positional uncertainty translates into uncertainty in the distance. This approach is less accurate but much simpler to implement.\n",
        "\n",
        "##Testing:\n",
        "To test and compare the Haversine and Vincenty distance calculations, we can write a test harness in Python. This harness will calculate distances between a set of predefined latitude and longitude pairs using both methods and then compare the results. For simplicity, I'll include the implementation of both functions within the test harness.\n",
        "\n",
        "Here's how the test harness could look:\n",
        "\n"
      ],
      "metadata": {
        "id": "eCGKLGjnQfPy"
      }
    },
    {
      "cell_type": "code",
      "source": [
        "import math\n",
        "# Test Harness\n",
        "def test_distance_calculations():\n",
        "    # Test data: tuples of (lat1, lon1, lat2, lon2)\n",
        "    test_points = [\n",
        "        (52.2296756, 21.0122287, 41.8919300, 12.5113300),  # Warsaw to Rome\n",
        "        (34.052235, -118.243683, 40.712776, -74.005974),   # Los Angeles to New York\n",
        "        (-33.868820, 151.209295, 51.507351, -0.127758)     # Sydney to London\n",
        "    ]\n",
        "\n",
        "    print(\"Comparing Haversine and Vincenty Distance Calculations\")\n",
        "    print(\"-----------------------------------------------------\")\n",
        "    for lat1, lon1, lat2, lon2 in test_points:\n",
        "        distance_haversine = haversine(lat1, lon1, lat2, lon2)\n",
        "        distance_vincenty = vincenty_distance(lat1, lon1, lat2, lon2)\n",
        "        print(f\"From ({lat1}, {lon1}) to ({lat2}, {lon2}):\")\n",
        "        print(f\"Haversine Distance: {distance_haversine:.2f} km\")\n",
        "        print(f\"Vincenty Distance: {distance_vincenty/1000:.2f} km\")\n",
        "        print(\"\")\n",
        "\n",
        "# Run the test harness\n",
        "test_distance_calculations()\n"
      ],
      "metadata": {
        "colab": {
          "base_uri": "https://localhost:8080/"
        },
        "id": "j-qnex4rNms7",
        "outputId": "1aeb5dc5-fe2c-4dbc-ba94-8634cd41ceac"
      },
      "execution_count": 4,
      "outputs": [
        {
          "output_type": "stream",
          "name": "stdout",
          "text": [
            "Comparing Haversine and Vincenty Distance Calculations\n",
            "-----------------------------------------------------\n",
            "From (52.2296756, 21.0122287) to (41.89193, 12.51133):\n",
            "Haversine Distance: 1315.51 km\n",
            "Vincenty Distance: 1316.21 km\n",
            "\n",
            "From (34.052235, -118.243683) to (40.712776, -74.005974):\n",
            "Haversine Distance: 3935.75 km\n",
            "Vincenty Distance: 3944.42 km\n",
            "\n",
            "From (-33.86882, 151.209295) to (51.507351, -0.127758):\n",
            "Haversine Distance: 16993.93 km\n",
            "Vincenty Distance: 16989.30 km\n",
            "\n"
          ]
        }
      ]
    },
    {
      "cell_type": "markdown",
      "source": [
        "In this test harness:\n",
        "- We define a set of latitude and longitude pairs (`test_points`) for which we want to calculate distances.\n",
        "- We calculate distances using both the Haversine and Vincenty formulas for each pair.\n",
        "- We then print the results for comparison.\n",
        "\n",
        "This harness will give you a sense of how the distances calculated by the two methods differ for the same set of points. Keep in mind that the Vincenty formula is more accurate but also more computationally intensive, especially for a large number of calculations."
      ],
      "metadata": {
        "id": "2zA7k9vHQpwm"
      }
    },
    {
      "cell_type": "code",
      "source": [],
      "metadata": {
        "id": "H4hvRwbmN0O0"
      },
      "execution_count": null,
      "outputs": []
    }
  ]
}