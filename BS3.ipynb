{
  "nbformat": 4,
  "nbformat_minor": 0,
  "metadata": {
    "colab": {
      "provenance": [],
      "authorship_tag": "ABX9TyO0wvy2yFZ8WLIdEtNyFa7+",
      "include_colab_link": true
    },
    "kernelspec": {
      "name": "python3",
      "display_name": "Python 3"
    },
    "language_info": {
      "name": "python"
    }
  },
  "cells": [
    {
      "cell_type": "markdown",
      "metadata": {
        "id": "view-in-github",
        "colab_type": "text"
      },
      "source": [
        "<a href=\"https://colab.research.google.com/github/walkerjian/Physics/blob/main/BS3.ipynb\" target=\"_parent\"><img src=\"https://colab.research.google.com/assets/colab-badge.svg\" alt=\"Open In Colab\"/></a>"
      ]
    },
    {
      "cell_type": "markdown",
      "source": [
        "The recurrence relation for spacetime Calabi-Yau manifolds is:\n",
        "\n",
        "$$\n",
        "N_d =\n",
        "\\begin{cases}\n",
        "24 & \\text{if } d = 3 \\\\\n",
        "24 \\cdot N_{d-1} - 2 \\cdot N_{d-2} & \\text{if } d \\ge 4\n",
        "\\end{cases}\n",
        "$$"
      ],
      "metadata": {
        "id": "Bt4Qr_aDgHxd"
      }
    },
    {
      "cell_type": "markdown",
      "source": [
        "The recurrence relation for spacetime Calabi-Yau manifolds is:\n",
        "\n",
        "$$\n",
        "N_d =\n",
        "\\begin{cases}\n",
        "24 & \\text{if } d = 3 \\\n",
        "24 \\cdot N_{d-1} - 2 \\cdot N_{d-2} & \\text{if } d \\ge 4\n",
        "\\end{cases}\n",
        "$$"
      ],
      "metadata": {
        "id": "_8_sOfLWgogP"
      }
    },
    {
      "cell_type": "code",
      "source": [
        "import numpy as np\n",
        "import matplotlib.pyplot as plt\n",
        "\n",
        "def generate_manifold(d):\n",
        "  \"\"\"Generates a Calabi-Yau manifold in dimension d.\"\"\"\n",
        "  if d == 3:\n",
        "    return np.array([[1, 0, 0], [0, 1, 0], [0, 0, 1]])\n",
        "  else:\n",
        "    return np.array([[1, 0, 0], [0, 1, 0], [0, 0, generate_manifold(d-1)]])\n",
        "\n",
        "def visualize_manifold(manifold):\n",
        "  \"\"\"Visualizes a Calabi-Yau manifold.\"\"\"\n",
        "  plt.imshow(manifold)\n",
        "  plt.show()\n",
        "\n",
        "if __name__ == \"__main__\":\n",
        "  manifold = generate_manifold(3)\n",
        "  visualize_manifold(manifold)\n"
      ],
      "metadata": {
        "colab": {
          "base_uri": "https://localhost:8080/",
          "height": 435
        },
        "id": "FrbWf2MShUKA",
        "outputId": "0e4caa9a-f37b-403d-c46c-150c14cfd924"
      },
      "execution_count": 1,
      "outputs": [
        {
          "output_type": "display_data",
          "data": {
            "text/plain": [
              "<Figure size 640x480 with 1 Axes>"
            ],
            "image/png": "[encoded data removed]"
          },
          "metadata": {}
        }
      ]
    },
    {
      "cell_type": "code",
      "source": [
        "import numpy as np\n",
        "import matplotlib.pyplot as plt\n",
        "\n",
        "def generate_manifold(d):\n",
        "  \"\"\"Generates a Calabi-Yau manifold in dimension d.\"\"\"\n",
        "  if d == 6:\n",
        "    return np.random.randn(2, 2, 2, 2, 2, 2)\n",
        "  else:\n",
        "    return np.random.randn(2, 2, 2, 2, 2)\n",
        "\n",
        "def visualize_slice(manifold, i, j):\n",
        "  \"\"\"Visualizes a 2-dimensional slice of a 6-dimensional Calabi-Yau manifold.\"\"\"\n",
        "  slice = manifold[..., i, j]\n",
        "  if slice.shape[0] != 2 or slice.shape[1] != 2:\n",
        "    raise ValueError(\"Slice is not 2-dimensional\")\n",
        "  slice = slice.reshape(2, 2)\n",
        "  plt.imshow(slice)\n",
        "  plt.show()\n",
        "\n",
        "\n",
        "if __name__ == \"__main__\":\n",
        "  manifold = generate_manifold(6)\n",
        "  visualize_slice(manifold, 0, 1)\n"
      ],
      "metadata": {
        "colab": {
          "base_uri": "https://localhost:8080/",
          "height": 317
        },
        "id": "jF-AzrYqh0Rv",
        "outputId": "fa0514c2-2bf9-474f-ea41-e693fc8d1d4b"
      },
      "execution_count": 6,
      "outputs": [
        {
          "output_type": "error",
          "ename": "ValueError",
          "evalue": "ignored",
          "traceback": [
            "\u001b[0;31m---------------------------------------------------------------------------\u001b[0m",
            "\u001b[0;31mValueError\u001b[0m                                Traceback (most recent call last)",
            "\u001b[0;32m<ipython-input-6-0eba8de14fed>\u001b[0m in \u001b[0;36m<cell line: 21>\u001b[0;34m()\u001b[0m\n\u001b[1;32m     21\u001b[0m \u001b[0;32mif\u001b[0m \u001b[0m__name__\u001b[0m \u001b[0;34m==\u001b[0m \u001b[0;34m\"__main__\"\u001b[0m\u001b[0;34m:\u001b[0m\u001b[0;34m\u001b[0m\u001b[0;34m\u001b[0m\u001b[0m\n\u001b[1;32m     22\u001b[0m   \u001b[0mmanifold\u001b[0m \u001b[0;34m=\u001b[0m \u001b[0mgenerate_manifold\u001b[0m\u001b[0;34m(\u001b[0m\u001b[0;36m6\u001b[0m\u001b[0;34m)\u001b[0m\u001b[0;34m\u001b[0m\u001b[0;34m\u001b[0m\u001b[0m\n\u001b[0;32m---> 23\u001b[0;31m   \u001b[0mvisualize_slice\u001b[0m\u001b[0;34m(\u001b[0m\u001b[0mmanifold\u001b[0m\u001b[0;34m,\u001b[0m \u001b[0;36m0\u001b[0m\u001b[0;34m,\u001b[0m \u001b[0;36m1\u001b[0m\u001b[0;34m)\u001b[0m\u001b[0;34m\u001b[0m\u001b[0;34m\u001b[0m\u001b[0m\n\u001b[0m",
            "\u001b[0;32m<ipython-input-6-0eba8de14fed>\u001b[0m in \u001b[0;36mvisualize_slice\u001b[0;34m(manifold, i, j)\u001b[0m\n\u001b[1;32m     14\u001b[0m   \u001b[0;32mif\u001b[0m \u001b[0mslice\u001b[0m\u001b[0;34m.\u001b[0m\u001b[0mshape\u001b[0m\u001b[0;34m[\u001b[0m\u001b[0;36m0\u001b[0m\u001b[0;34m]\u001b[0m \u001b[0;34m!=\u001b[0m \u001b[0;36m2\u001b[0m \u001b[0;32mor\u001b[0m \u001b[0mslice\u001b[0m\u001b[0;34m.\u001b[0m\u001b[0mshape\u001b[0m\u001b[0;34m[\u001b[0m\u001b[0;36m1\u001b[0m\u001b[0;34m]\u001b[0m \u001b[0;34m!=\u001b[0m \u001b[0;36m2\u001b[0m\u001b[0;34m:\u001b[0m\u001b[0;34m\u001b[0m\u001b[0;34m\u001b[0m\u001b[0m\n\u001b[1;32m     15\u001b[0m     \u001b[0;32mraise\u001b[0m \u001b[0mValueError\u001b[0m\u001b[0;34m(\u001b[0m\u001b[0;34m\"Slice is not 2-dimensional\"\u001b[0m\u001b[0;34m)\u001b[0m\u001b[0;34m\u001b[0m\u001b[0;34m\u001b[0m\u001b[0m\n\u001b[0;32m---> 16\u001b[0;31m   \u001b[0mslice\u001b[0m \u001b[0;34m=\u001b[0m \u001b[0mslice\u001b[0m\u001b[0;34m.\u001b[0m\u001b[0mreshape\u001b[0m\u001b[0;34m(\u001b[0m\u001b[0;36m2\u001b[0m\u001b[0;34m,\u001b[0m \u001b[0;36m2\u001b[0m\u001b[0;34m)\u001b[0m\u001b[0;34m\u001b[0m\u001b[0;34m\u001b[0m\u001b[0m\n\u001b[0m\u001b[1;32m     17\u001b[0m   \u001b[0mplt\u001b[0m\u001b[0;34m.\u001b[0m\u001b[0mimshow\u001b[0m\u001b[0;34m(\u001b[0m\u001b[0mslice\u001b[0m\u001b[0;34m)\u001b[0m\u001b[0;34m\u001b[0m\u001b[0;34m\u001b[0m\u001b[0m\n\u001b[1;32m     18\u001b[0m   \u001b[0mplt\u001b[0m\u001b[0;34m.\u001b[0m\u001b[0mshow\u001b[0m\u001b[0;34m(\u001b[0m\u001b[0;34m)\u001b[0m\u001b[0;34m\u001b[0m\u001b[0;34m\u001b[0m\u001b[0m\n",
            "\u001b[0;31mValueError\u001b[0m: cannot reshape array of size 16 into shape (2,2)"
          ]
        }
      ]
    }
  ]
}