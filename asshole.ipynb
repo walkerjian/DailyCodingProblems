{
  "nbformat": 4,
  "nbformat_minor": 0,
  "metadata": {
    "colab": {
      "provenance": [],
      "authorship_tag": "ABX9TyMR5bYVrPc0pescMJ6460Cf",
      "include_colab_link": true
    },
    "kernelspec": {
      "name": "python3",
      "display_name": "Python 3"
    },
    "language_info": {
      "name": "python"
    }
  },
  "cells": [
    {
      "cell_type": "markdown",
      "metadata": {
        "id": "view-in-github",
        "colab_type": "text"
      },
      "source": [
        "<a href=\"https://colab.research.google.com/github/walkerjian/Physics/blob/main/asshole.ipynb\" target=\"_parent\"><img src=\"https://colab.research.google.com/assets/colab-badge.svg\" alt=\"Open In Colab\"/></a>"
      ]
    },
    {
      "cell_type": "code",
      "execution_count": 2,
      "metadata": {
        "colab": {
          "base_uri": "https://localhost:8080/",
          "height": 520
        },
        "id": "mX_M0YzTV97F",
        "outputId": "67124520-dc6a-444a-f331-08ed3c24ad37"
      },
      "outputs": [
        {
          "output_type": "display_data",
          "data": {
            "text/plain": [
              "<Figure size 600x400 with 1 Axes>"
            ],
            "image/png": "[encoded data removed]"
          },
          "metadata": {}
        }
      ],
      "source": [
        "import matplotlib.pyplot as plt\n",
        "\n",
        "# Define ket vectors\n",
        "ket_A0 = r\"|A_0>\"\n",
        "ket_D0 = r\"|D_0>\"\n",
        "ket_B0 = r\"|B_0>\"\n",
        "ket_A1 = r\"|A_1>\"\n",
        "ket_D1 = r\"|D_1>\"\n",
        "ket_B1 = r\"|B_1>\"\n",
        "\n",
        "# Create diagram\n",
        "plt.figure(figsize=(6, 4))\n",
        "plt.plot([0, 0, 1, 1], [0, 1, 1, 0], 'o-', color='black')\n",
        "plt.text(0, 0.5, ket_A0, ha='center', va='center')\n",
        "plt.text(1, 0.5, ket_A1, ha='center', va='center')\n",
        "plt.text(0, -0.5, ket_D0, ha='center', va='center')\n",
        "plt.text(1, -0.5, ket_D1, ha='center', va='center')\n",
        "plt.annotate(\"\", xy=(0.5, 0.8), xytext=(0.5, 1.2), arrowprops=dict(arrowstyle=\"<->\"))\n",
        "plt.annotate(\"\", xy=(0.5, -0.8), xytext=(0.5, -1.2), arrowprops=dict(arrowstyle=\"<->\"))\n",
        "plt.title(\"Entangled Cat/Box Time Crystal State\")\n",
        "plt.show()\n"
      ]
    },
    {
      "cell_type": "code",
      "source": [
        "!pip install git+https://github.com/aws/amazon-braket-sdk-python.git\n"
      ],
      "metadata": {
        "colab": {
          "base_uri": "https://localhost:8080/"
        },
        "id": "9_e85TcWXRGD",
        "outputId": "96a53f95-fbb4-4754-c468-53b534c8b14e"
      },
      "execution_count": 6,
      "outputs": [
        {
          "output_type": "stream",
          "name": "stdout",
          "text": [
            "Collecting git+https://github.com/aws/amazon-braket-sdk-python.git\n",
            "  Cloning https://github.com/aws/amazon-braket-sdk-python.git to /tmp/pip-req-build-q5dl1h09\n",
            "  Running command git clone --filter=blob:none --quiet https://github.com/aws/amazon-braket-sdk-python.git /tmp/pip-req-build-q5dl1h09\n",
            "  Resolved https://github.com/aws/amazon-braket-sdk-python.git to commit 788b198ddc66dc395b9761d1f92e38524d6eeed2\n",
            "  Installing build dependencies ... \u001b[?25l\u001b[?25hdone\n",
            "  Getting requirements to build wheel ... \u001b[?25l\u001b[?25hdone\n",
            "  Preparing metadata (pyproject.toml) ... \u001b[?25l\u001b[?25hdone\n",
            "Collecting amazon-braket-schemas>=1.19.1 (from amazon-braket-sdk==1.65.1.dev0)\n",
            "  Downloading amazon_braket_schemas-1.19.1.post0-py3-none-any.whl (117 kB)\n",
            "\u001b[2K     \u001b[90m━━━━━━━━━━━━━━━━━━━━━━━━━━━━━━━━━━━━━━━━\u001b[0m \u001b[32m117.6/117.6 kB\u001b[0m \u001b[31m2.5 MB/s\u001b[0m eta \u001b[36m0:00:00\u001b[0m\n",
            "\u001b[?25hCollecting amazon-braket-default-simulator>=1.19.1 (from amazon-braket-sdk==1.65.1.dev0)\n",
            "  Downloading amazon_braket_default_simulator-1.20.1-py3-none-any.whl (218 kB)\n",
            "\u001b[2K     \u001b[90m━━━━━━━━━━━━━━━━━━━━━━━━━━━━━━━━━━━━━━━━\u001b[0m \u001b[32m218.9/218.9 kB\u001b[0m \u001b[31m6.1 MB/s\u001b[0m eta \u001b[36m0:00:00\u001b[0m\n",
            "\u001b[?25hCollecting oqpy~=0.2.1 (from amazon-braket-sdk==1.65.1.dev0)\n",
            "  Downloading oqpy-0.2.1-py3-none-any.whl (30 kB)\n",
            "Requirement already satisfied: setuptools in /usr/local/lib/python3.10/dist-packages (from amazon-braket-sdk==1.65.1.dev0) (67.7.2)\n",
            "Collecting backoff (from amazon-braket-sdk==1.65.1.dev0)\n",
            "  Downloading backoff-2.2.1-py3-none-any.whl (15 kB)\n",
            "Collecting boltons (from amazon-braket-sdk==1.65.1.dev0)\n",
            "  Downloading boltons-23.1.1-py2.py3-none-any.whl (195 kB)\n",
            "\u001b[2K     \u001b[90m━━━━━━━━━━━━━━━━━━━━━━━━━━━━━━━━━━━━━━━━\u001b[0m \u001b[32m195.3/195.3 kB\u001b[0m \u001b[31m7.7 MB/s\u001b[0m eta \u001b[36m0:00:00\u001b[0m\n",
            "\u001b[?25hCollecting boto3>=1.28.53 (from amazon-braket-sdk==1.65.1.dev0)\n",
            "  Downloading boto3-1.34.6-py3-none-any.whl (139 kB)\n",
            "\u001b[2K     \u001b[90m━━━━━━━━━━━━━━━━━━━━━━━━━━━━━━━━━━━━━━━━\u001b[0m \u001b[32m139.3/139.3 kB\u001b[0m \u001b[31m7.4 MB/s\u001b[0m eta \u001b[36m0:00:00\u001b[0m\n",
            "\u001b[?25hRequirement already satisfied: cloudpickle==2.2.1 in /usr/local/lib/python3.10/dist-packages (from amazon-braket-sdk==1.65.1.dev0) (2.2.1)\n",
            "Requirement already satisfied: nest-asyncio in /usr/local/lib/python3.10/dist-packages (from amazon-braket-sdk==1.65.1.dev0) (1.5.8)\n",
            "Requirement already satisfied: networkx in /usr/local/lib/python3.10/dist-packages (from amazon-braket-sdk==1.65.1.dev0) (3.2.1)\n",
            "Requirement already satisfied: numpy in /usr/local/lib/python3.10/dist-packages (from amazon-braket-sdk==1.65.1.dev0) (1.23.5)\n",
            "Collecting openpulse (from amazon-braket-sdk==1.65.1.dev0)\n",
            "  Downloading openpulse-0.5.0-py3-none-any.whl (377 kB)\n",
            "\u001b[2K     \u001b[90m━━━━━━━━━━━━━━━━━━━━━━━━━━━━━━━━━━━━━━━━\u001b[0m \u001b[32m377.0/377.0 kB\u001b[0m \u001b[31m8.0 MB/s\u001b[0m eta \u001b[36m0:00:00\u001b[0m\n",
            "\u001b[?25hCollecting openqasm3 (from amazon-braket-sdk==1.65.1.dev0)\n",
            "  Downloading openqasm3-0.5.0-py3-none-any.whl (524 kB)\n",
            "\u001b[2K     \u001b[90m━━━━━━━━━━━━━━━━━━━━━━━━━━━━━━━━━━━━━━━━\u001b[0m \u001b[32m524.0/524.0 kB\u001b[0m \u001b[31m10.5 MB/s\u001b[0m eta \u001b[36m0:00:00\u001b[0m\n",
            "\u001b[?25hRequirement already satisfied: sympy in /usr/local/lib/python3.10/dist-packages (from amazon-braket-sdk==1.65.1.dev0) (1.12)\n",
            "Requirement already satisfied: opt-einsum in /usr/local/lib/python3.10/dist-packages (from amazon-braket-default-simulator>=1.19.1->amazon-braket-sdk==1.65.1.dev0) (3.3.0)\n",
            "Requirement already satisfied: pydantic<2.0,>=1.9 in /usr/local/lib/python3.10/dist-packages (from amazon-braket-default-simulator>=1.19.1->amazon-braket-sdk==1.65.1.dev0) (1.10.13)\n",
            "Requirement already satisfied: scipy in /usr/local/lib/python3.10/dist-packages (from amazon-braket-default-simulator>=1.19.1->amazon-braket-sdk==1.65.1.dev0) (1.11.4)\n",
            "Collecting antlr4-python3-runtime==4.9.2 (from amazon-braket-default-simulator>=1.19.1->amazon-braket-sdk==1.65.1.dev0)\n",
            "  Downloading antlr4-python3-runtime-4.9.2.tar.gz (117 kB)\n",
            "\u001b[2K     \u001b[90m━━━━━━━━━━━━━━━━━━━━━━━━━━━━━━━━━━━━━━━━\u001b[0m \u001b[32m117.2/117.2 kB\u001b[0m \u001b[31m10.8 MB/s\u001b[0m eta \u001b[36m0:00:00\u001b[0m\n",
            "\u001b[?25h  Preparing metadata (setup.py) ... \u001b[?25l\u001b[?25hdone\n",
            "Collecting botocore<1.35.0,>=1.34.6 (from boto3>=1.28.53->amazon-braket-sdk==1.65.1.dev0)\n",
            "  Downloading botocore-1.34.6-py3-none-any.whl (11.9 MB)\n",
            "\u001b[2K     \u001b[90m━━━━━━━━━━━━━━━━━━━━━━━━━━━━━━━━━━━━━━━━\u001b[0m \u001b[32m11.9/11.9 MB\u001b[0m \u001b[31m25.6 MB/s\u001b[0m eta \u001b[36m0:00:00\u001b[0m\n",
            "\u001b[?25hCollecting jmespath<2.0.0,>=0.7.1 (from boto3>=1.28.53->amazon-braket-sdk==1.65.1.dev0)\n",
            "  Downloading jmespath-1.0.1-py3-none-any.whl (20 kB)\n",
            "Collecting s3transfer<0.11.0,>=0.10.0 (from boto3>=1.28.53->amazon-braket-sdk==1.65.1.dev0)\n",
            "  Downloading s3transfer-0.10.0-py3-none-any.whl (82 kB)\n",
            "\u001b[2K     \u001b[90m━━━━━━━━━━━━━━━━━━━━━━━━━━━━━━━━━━━━━━━━\u001b[0m \u001b[32m82.1/82.1 kB\u001b[0m \u001b[31m6.8 MB/s\u001b[0m eta \u001b[36m0:00:00\u001b[0m\n",
            "\u001b[?25hCollecting mypy-extensions>=0.2.0 (from oqpy~=0.2.1->amazon-braket-sdk==1.65.1.dev0)\n",
            "  Downloading mypy_extensions-1.0.0-py3-none-any.whl (4.7 kB)\n",
            "Collecting openpulse (from amazon-braket-sdk==1.65.1.dev0)\n",
            "  Downloading openpulse-0.4.2-py3-none-any.whl (377 kB)\n",
            "\u001b[2K     \u001b[90m━━━━━━━━━━━━━━━━━━━━━━━━━━━━━━━━━━━━━━━━\u001b[0m \u001b[32m377.0/377.0 kB\u001b[0m \u001b[31m27.4 MB/s\u001b[0m eta \u001b[36m0:00:00\u001b[0m\n",
            "\u001b[?25hCollecting openqasm3[parser]==0.4.0 (from openpulse->amazon-braket-sdk==1.65.1.dev0)\n",
            "  Downloading openqasm3-0.4.0-py3-none-any.whl (385 kB)\n",
            "\u001b[2K     \u001b[90m━━━━━━━━━━━━━━━━━━━━━━━━━━━━━━━━━━━━━━━━\u001b[0m \u001b[32m385.3/385.3 kB\u001b[0m \u001b[31m29.9 MB/s\u001b[0m eta \u001b[36m0:00:00\u001b[0m\n",
            "\u001b[?25hRequirement already satisfied: mpmath>=0.19 in /usr/local/lib/python3.10/dist-packages (from sympy->amazon-braket-sdk==1.65.1.dev0) (1.3.0)\n",
            "Requirement already satisfied: python-dateutil<3.0.0,>=2.1 in /usr/local/lib/python3.10/dist-packages (from botocore<1.35.0,>=1.34.6->boto3>=1.28.53->amazon-braket-sdk==1.65.1.dev0) (2.8.2)\n",
            "Requirement already satisfied: urllib3<2.1,>=1.25.4 in /usr/local/lib/python3.10/dist-packages (from botocore<1.35.0,>=1.34.6->boto3>=1.28.53->amazon-braket-sdk==1.65.1.dev0) (2.0.7)\n",
            "Requirement already satisfied: typing-extensions>=4.2.0 in /usr/local/lib/python3.10/dist-packages (from pydantic<2.0,>=1.9->amazon-braket-default-simulator>=1.19.1->amazon-braket-sdk==1.65.1.dev0) (4.5.0)\n",
            "Requirement already satisfied: six>=1.5 in /usr/local/lib/python3.10/dist-packages (from python-dateutil<3.0.0,>=2.1->botocore<1.35.0,>=1.34.6->boto3>=1.28.53->amazon-braket-sdk==1.65.1.dev0) (1.16.0)\n",
            "Building wheels for collected packages: amazon-braket-sdk, antlr4-python3-runtime\n",
            "  Building wheel for amazon-braket-sdk (pyproject.toml) ... \u001b[?25l\u001b[?25hdone\n",
            "  Created wheel for amazon-braket-sdk: filename=amazon_braket_sdk-1.65.1.dev0-py3-none-any.whl size=293426 sha256=8a20fd9173ace4a11b1c273ef2bda18de437868515198901b4f7fc408435fde4\n",
            "  Stored in directory: /tmp/pip-ephem-wheel-cache-iwz9mhg1/wheels/26/67/e8/7616875c6449f1c5be71d375f22971387aa6897ef14995e7ff\n",
            "  Building wheel for antlr4-python3-runtime (setup.py) ... \u001b[?25l\u001b[?25hdone\n",
            "  Created wheel for antlr4-python3-runtime: filename=antlr4_python3_runtime-4.9.2-py3-none-any.whl size=144547 sha256=2fbf30abb3c7f8a632115f581427d1b19083f2aef17636a328f6154301445dc4\n",
            "  Stored in directory: /root/.cache/pip/wheels/af/c8/1f/dd6d90c5974896e85709e017986a6f72fcf32343bea042bc03\n",
            "Successfully built amazon-braket-sdk antlr4-python3-runtime\n",
            "Installing collected packages: openqasm3, boltons, antlr4-python3-runtime, mypy-extensions, jmespath, backoff, openpulse, botocore, amazon-braket-schemas, s3transfer, oqpy, amazon-braket-default-simulator, boto3, amazon-braket-sdk\n",
            "Successfully installed amazon-braket-default-simulator-1.20.1 amazon-braket-schemas-1.19.1.post0 amazon-braket-sdk-1.65.1.dev0 antlr4-python3-runtime-4.9.2 backoff-2.2.1 boltons-23.1.1 boto3-1.34.6 botocore-1.34.6 jmespath-1.0.1 mypy-extensions-1.0.0 openpulse-0.4.2 openqasm3-0.4.0 oqpy-0.2.1 s3transfer-0.10.0\n"
          ]
        }
      ]
    },
    {
      "cell_type": "code",
      "source": [
        "!pip install braket\n"
      ],
      "metadata": {
        "colab": {
          "base_uri": "https://localhost:8080/"
        },
        "id": "Y5U4idotYBeR",
        "outputId": "ee0974c8-cae3-4637-da33-ea4c49cc6610"
      },
      "execution_count": 8,
      "outputs": [
        {
          "output_type": "stream",
          "name": "stdout",
          "text": [
            "\u001b[31mERROR: Could not find a version that satisfies the requirement braket (from versions: none)\u001b[0m\u001b[31m\n",
            "\u001b[0m\u001b[31mERROR: No matching distribution found for braket\u001b[0m\u001b[31m\n",
            "\u001b[0m"
          ]
        }
      ]
    },
    {
      "cell_type": "code",
      "source": [
        "import matplotlib.pyplot as plt\n",
        "#from braket.visualization import visualize_state\n",
        "from braket.circuits.visualization import visualize_state\n",
        "# Define state using braket's notation\n",
        "state = alpha * BraKet(\"A_0\", \"B_0\", \"A_1\", \"B_1\") + beta * BraKet(\"D_0\", \"B_0\", \"D_1\", \"B_1\")\n",
        "\n",
        "# Visualize state using braket's built-in function\n",
        "visualize_state(state, figsize=(6, 4))\n",
        "\n",
        "# Customize plot (optional)\n",
        "plt.title(\"Entangled Cat/Box Time Crystal State\")\n",
        "plt.show()\n"
      ],
      "metadata": {
        "colab": {
          "base_uri": "https://localhost:8080/",
          "height": 401
        },
        "id": "aDegAWqdXA3Z",
        "outputId": "5085185f-5210-408d-edda-2eaf70fa6cba"
      },
      "execution_count": 9,
      "outputs": [
        {
          "output_type": "error",
          "ename": "ModuleNotFoundError",
          "evalue": "ignored",
          "traceback": [
            "\u001b[0;31m---------------------------------------------------------------------------\u001b[0m",
            "\u001b[0;31mModuleNotFoundError\u001b[0m                       Traceback (most recent call last)",
            "\u001b[0;32m<ipython-input-9-f3bda40fea94>\u001b[0m in \u001b[0;36m<cell line: 3>\u001b[0;34m()\u001b[0m\n\u001b[1;32m      1\u001b[0m \u001b[0;32mimport\u001b[0m \u001b[0mmatplotlib\u001b[0m\u001b[0;34m.\u001b[0m\u001b[0mpyplot\u001b[0m \u001b[0;32mas\u001b[0m \u001b[0mplt\u001b[0m\u001b[0;34m\u001b[0m\u001b[0;34m\u001b[0m\u001b[0m\n\u001b[1;32m      2\u001b[0m \u001b[0;31m#from braket.visualization import visualize_state\u001b[0m\u001b[0;34m\u001b[0m\u001b[0;34m\u001b[0m\u001b[0m\n\u001b[0;32m----> 3\u001b[0;31m \u001b[0;32mfrom\u001b[0m \u001b[0mbraket\u001b[0m\u001b[0;34m.\u001b[0m\u001b[0mcircuits\u001b[0m\u001b[0;34m.\u001b[0m\u001b[0mvisualization\u001b[0m \u001b[0;32mimport\u001b[0m \u001b[0mvisualize_state\u001b[0m\u001b[0;34m\u001b[0m\u001b[0;34m\u001b[0m\u001b[0m\n\u001b[0m\u001b[1;32m      4\u001b[0m \u001b[0;31m# Define state using braket's notation\u001b[0m\u001b[0;34m\u001b[0m\u001b[0;34m\u001b[0m\u001b[0m\n\u001b[1;32m      5\u001b[0m \u001b[0mstate\u001b[0m \u001b[0;34m=\u001b[0m \u001b[0malpha\u001b[0m \u001b[0;34m*\u001b[0m \u001b[0mBraKet\u001b[0m\u001b[0;34m(\u001b[0m\u001b[0;34m\"A_0\"\u001b[0m\u001b[0;34m,\u001b[0m \u001b[0;34m\"B_0\"\u001b[0m\u001b[0;34m,\u001b[0m \u001b[0;34m\"A_1\"\u001b[0m\u001b[0;34m,\u001b[0m \u001b[0;34m\"B_1\"\u001b[0m\u001b[0;34m)\u001b[0m \u001b[0;34m+\u001b[0m \u001b[0mbeta\u001b[0m \u001b[0;34m*\u001b[0m \u001b[0mBraKet\u001b[0m\u001b[0;34m(\u001b[0m\u001b[0;34m\"D_0\"\u001b[0m\u001b[0;34m,\u001b[0m \u001b[0;34m\"B_0\"\u001b[0m\u001b[0;34m,\u001b[0m \u001b[0;34m\"D_1\"\u001b[0m\u001b[0;34m,\u001b[0m \u001b[0;34m\"B_1\"\u001b[0m\u001b[0;34m)\u001b[0m\u001b[0;34m\u001b[0m\u001b[0;34m\u001b[0m\u001b[0m\n",
            "\u001b[0;31mModuleNotFoundError\u001b[0m: No module named 'braket.circuits.visualization'",
            "",
            "\u001b[0;31m---------------------------------------------------------------------------\u001b[0;32m\nNOTE: If your import is failing due to a missing package, you can\nmanually install dependencies using either !pip or !apt.\n\nTo view examples of installing some common dependencies, click the\n\"Open Examples\" button below.\n\u001b[0;31m---------------------------------------------------------------------------\u001b[0m\n"
          ],
          "errorDetails": {
            "actions": [
              {
                "action": "open_url",
                "actionText": "Open Examples",
                "url": "/notebooks/snippets/importing_libraries.ipynb"
              }
            ]
          }
        }
      ]
    },
    {
      "cell_type": "code",
      "source": [
        "# prompt: fix this: import matplotlib.pyplot as plt #from braket.visualization import visualize_state from braket.circuits.visualization import visualize_state # Define state using braket's notation state = alpha * BraKet(\"A_0\", \"B_0\", \"A_1\", \"B_1\") + beta * BraKet(\"D_0\", \"B_0\", \"D_1\", \"B_1\")  # Visualize state using braket's built-in function visualize_state(state, figsize=(6, 4))  # Customize plot (optional) plt.title(\"Entangled Cat/Box Time Crystal State\") plt.show()\n",
        "\n",
        "import matplotlib.pyplot as plt\n",
        "from braket.circuits.visualization import visualize_state\n",
        "\n",
        "# Define ket vectors\n",
        "ket_A0 = r\"|A_0>\"\n",
        "ket_D0 = r\"|D_0>\"\n",
        "ket_B0 = r\"|B_0>\"\n",
        "ket_A1 = r\"|A_1>\"\n",
        "ket_D1 = r\"|D_1>\"\n",
        "ket_B1 = r\"|B_1>\"\n",
        "\n",
        "# Create diagram\n",
        "plt.figure(figsize=(6, 4))\n",
        "plt.plot([0, 0, 1, 1], [0, 1, 1, 0], 'o-', color='black')\n",
        "plt.text(0, 0.5, ket_A0, ha='center', va='center')\n",
        "plt.text(1, 0.5, ket_A1, ha='center', va='center')\n",
        "plt.text(0, -0.5, ket_D0, ha='center', va='center')\n",
        "plt.text(1, -0.5, ket_D1, ha='center', va='center')\n",
        "plt.annotate(\"\", xy=(0.5, 0.8), xytext=(0.5, 1.2), arrowprops=dict(arrowstyle=\"<->\"))\n",
        "plt.annotate(\"\", xy=(0.5, -0.8), xytext=(0.5, -1.2), arrowprops=dict(arrowstyle=\"<->\"))\n",
        "plt.title(\"Entangled Cat/Box Time Crystal State\")\n",
        "plt.show()\n",
        "\n",
        "!pip install git+https://github.com/aws/amazon-braket-sdk-python.git\n",
        "\n",
        "!pip install braket\n",
        "\n",
        "from braket.visualization import visualize_state\n",
        "\n",
        "# Define state using braket's notation\n",
        "state = alpha * BraKet(\"A_0\", \"B_0\", \"A_1\", \"B_1\") + beta * BraKet(\"D_0\", \"B_0\", \"D_1\", \"B_1\")\n",
        "\n",
        "# Visualize state using braket's built-in function\n",
        "visualize_state(state, figsize=(6, 4))\n",
        "\n",
        "# Customize plot (optional)\n",
        "plt.title(\"Entangled Cat/Box Time Crystal State\")\n",
        "plt.show()\n"
      ],
      "metadata": {
        "colab": {
          "base_uri": "https://localhost:8080/",
          "height": 384
        },
        "id": "ZZMl-8miYki0",
        "outputId": "043ff6b0-e8a6-477c-b46a-c9df51469fb9"
      },
      "execution_count": 12,
      "outputs": [
        {
          "output_type": "error",
          "ename": "ModuleNotFoundError",
          "evalue": "ignored",
          "traceback": [
            "\u001b[0;31m---------------------------------------------------------------------------\u001b[0m",
            "\u001b[0;31mModuleNotFoundError\u001b[0m                       Traceback (most recent call last)",
            "\u001b[0;32m<ipython-input-12-68ed78d08c3a>\u001b[0m in \u001b[0;36m<cell line: 4>\u001b[0;34m()\u001b[0m\n\u001b[1;32m      2\u001b[0m \u001b[0;34m\u001b[0m\u001b[0m\n\u001b[1;32m      3\u001b[0m \u001b[0;32mimport\u001b[0m \u001b[0mmatplotlib\u001b[0m\u001b[0;34m.\u001b[0m\u001b[0mpyplot\u001b[0m \u001b[0;32mas\u001b[0m \u001b[0mplt\u001b[0m\u001b[0;34m\u001b[0m\u001b[0;34m\u001b[0m\u001b[0m\n\u001b[0;32m----> 4\u001b[0;31m \u001b[0;32mfrom\u001b[0m \u001b[0mbraket\u001b[0m\u001b[0;34m.\u001b[0m\u001b[0mcircuits\u001b[0m\u001b[0;34m.\u001b[0m\u001b[0mvisualization\u001b[0m \u001b[0;32mimport\u001b[0m \u001b[0mvisualize_state\u001b[0m\u001b[0;34m\u001b[0m\u001b[0;34m\u001b[0m\u001b[0m\n\u001b[0m\u001b[1;32m      5\u001b[0m \u001b[0;34m\u001b[0m\u001b[0m\n\u001b[1;32m      6\u001b[0m \u001b[0;31m# Define ket vectors\u001b[0m\u001b[0;34m\u001b[0m\u001b[0;34m\u001b[0m\u001b[0m\n",
            "\u001b[0;31mModuleNotFoundError\u001b[0m: No module named 'braket.circuits.visualization'",
            "",
            "\u001b[0;31m---------------------------------------------------------------------------\u001b[0;32m\nNOTE: If your import is failing due to a missing package, you can\nmanually install dependencies using either !pip or !apt.\n\nTo view examples of installing some common dependencies, click the\n\"Open Examples\" button below.\n\u001b[0;31m---------------------------------------------------------------------------\u001b[0m\n"
          ],
          "errorDetails": {
            "actions": [
              {
                "action": "open_url",
                "actionText": "Open Examples",
                "url": "/notebooks/snippets/importing_libraries.ipynb"
              }
            ]
          }
        }
      ]
    },
    {
      "cell_type": "code",
      "source": [
        "# prompt: still get this: --------------------------------------------------------------------------- ModuleNotFoundError                       Traceback (most recent call last) <ipython-input-12-68ed78d08c3a> in <cell line: 4>()       2        3 import matplotlib.pyplot as plt ----> 4 from braket.circuits.visualization import visualize_state       5        6 # Define ket vectors  ModuleNotFoundError: No module named 'braket.circuits.visualization'  --------------------------------------------------------------------------- NOTE: If your import is failing due to a missing package, you can manually install dependencies using either !pip or !apt.  To view examples of installing some common dependencies, click the \"Open Examples\" button below. ---------------------------------------------------------------------------\n",
        "\n",
        "import matplotlib.pyplot as plt\n",
        "from braket.circuits.visualization import visualize_state\n",
        "from braket.visualization import visualize_state\n",
        "\n",
        "# Define ket vectors\n",
        "ket_A0 = r\"|A_0>\"\n",
        "ket_D0 = r\"|D_0>\"\n",
        "ket_B0 = r\"|B_0>\"\n",
        "ket_A1 = r\"|A_1>\"\n",
        "ket_D1 = r\"|D_1>\"\n",
        "ket_B1 = r\"|B_1>\"\n",
        "\n",
        "# Create diagram\n",
        "plt.figure(figsize=(6, 4))\n",
        "plt.plot([0, 0, 1, 1], [0, 1, 1, 0], 'o-', color='black')\n",
        "plt.text(0, 0.5, ket_A0, ha='center', va='center')\n",
        "plt.text(1, 0.5, ket_A1, ha='center', va='center')\n",
        "plt.text(0, -0.5, ket_D0, ha='center', va='center')\n",
        "plt.text(1, -0.5, ket_D1, ha='center', va='center')\n",
        "plt.annotate(\"\", xy=(0.5, 0.8), xytext=(0.5, 1.2), arrowprops=dict(arrowstyle=\"<->\"))\n",
        "plt.annotate(\"\", xy=(0.5, -0.8), xytext=(0.5, -1.2), arrowprops=dict(arrowstyle=\"<->\"))\n",
        "plt.title(\"Entangled Cat/Box Time Crystal State\")\n",
        "plt.show()\n",
        "\n",
        "!pip install git+https://github.com/aws/amazon-braket-sdk-python.git\n",
        "\n",
        "!pip install braket\n",
        "\n",
        "\n",
        "# Define state using braket's notation\n",
        "state = alpha * BraKet(\"A_0\", \"B_0\", \"A_1\", \"B_1\") + beta * BraKet(\"D_0\", \"B_0\", \"D_1\", \"B_1\")\n",
        "\n",
        "# Visualize state using braket's built-in function\n",
        "visualize_state(state, figsize=(6, 4))\n",
        "\n",
        "# Customize plot (optional)\n",
        "plt.title(\"Entangled Cat/Box Time Crystal State\")\n",
        "plt.show()\n",
        "\n"
      ],
      "metadata": {
        "colab": {
          "base_uri": "https://localhost:8080/",
          "height": 384
        },
        "id": "Jb-ppGzqir5O",
        "outputId": "052ecbcb-b741-4537-e07b-e7fa3717e365"
      },
      "execution_count": 17,
      "outputs": [
        {
          "output_type": "error",
          "ename": "ModuleNotFoundError",
          "evalue": "ignored",
          "traceback": [
            "\u001b[0;31m---------------------------------------------------------------------------\u001b[0m",
            "\u001b[0;31mModuleNotFoundError\u001b[0m                       Traceback (most recent call last)",
            "\u001b[0;32m<ipython-input-17-c4158b3bfb63>\u001b[0m in \u001b[0;36m<cell line: 4>\u001b[0;34m()\u001b[0m\n\u001b[1;32m      2\u001b[0m \u001b[0;34m\u001b[0m\u001b[0m\n\u001b[1;32m      3\u001b[0m \u001b[0;32mimport\u001b[0m \u001b[0mmatplotlib\u001b[0m\u001b[0;34m.\u001b[0m\u001b[0mpyplot\u001b[0m \u001b[0;32mas\u001b[0m \u001b[0mplt\u001b[0m\u001b[0;34m\u001b[0m\u001b[0;34m\u001b[0m\u001b[0m\n\u001b[0;32m----> 4\u001b[0;31m \u001b[0;32mfrom\u001b[0m \u001b[0mbraket\u001b[0m\u001b[0;34m.\u001b[0m\u001b[0mcircuits\u001b[0m\u001b[0;34m.\u001b[0m\u001b[0mvisualization\u001b[0m \u001b[0;32mimport\u001b[0m \u001b[0mvisualize_state\u001b[0m\u001b[0;34m\u001b[0m\u001b[0;34m\u001b[0m\u001b[0m\n\u001b[0m\u001b[1;32m      5\u001b[0m \u001b[0;32mfrom\u001b[0m \u001b[0mbraket\u001b[0m\u001b[0;34m.\u001b[0m\u001b[0mvisualization\u001b[0m \u001b[0;32mimport\u001b[0m \u001b[0mvisualize_state\u001b[0m\u001b[0;34m\u001b[0m\u001b[0;34m\u001b[0m\u001b[0m\n\u001b[1;32m      6\u001b[0m \u001b[0;34m\u001b[0m\u001b[0m\n",
            "\u001b[0;31mModuleNotFoundError\u001b[0m: No module named 'braket.circuits.visualization'",
            "",
            "\u001b[0;31m---------------------------------------------------------------------------\u001b[0;32m\nNOTE: If your import is failing due to a missing package, you can\nmanually install dependencies using either !pip or !apt.\n\nTo view examples of installing some common dependencies, click the\n\"Open Examples\" button below.\n\u001b[0;31m---------------------------------------------------------------------------\u001b[0m\n"
          ],
          "errorDetails": {
            "actions": [
              {
                "action": "open_url",
                "actionText": "Open Examples",
                "url": "/notebooks/snippets/importing_libraries.ipynb"
              }
            ]
          }
        }
      ]
    },
    {
      "source": [
        "!pip install braket"
      ],
      "cell_type": "code",
      "metadata": {
        "colab": {
          "base_uri": "https://localhost:8080/"
        },
        "id": "MLCopiWkjeUR",
        "outputId": "c08567b7-27ae-4e25-8c35-14f06322e53f"
      },
      "execution_count": 18,
      "outputs": [
        {
          "output_type": "stream",
          "name": "stdout",
          "text": [
            "\u001b[31mERROR: Could not find a version that satisfies the requirement braket (from versions: none)\u001b[0m\u001b[31m\n",
            "\u001b[0m\u001b[31mERROR: No matching distribution found for braket\u001b[0m\u001b[31m\n",
            "\u001b[0m"
          ]
        }
      ]
    },
    {
      "source": [
        "!pip install braket"
      ],
      "cell_type": "code",
      "metadata": {
        "id": "i4Vt48VAj3bi"
      },
      "execution_count": null,
      "outputs": []
    },
    {
      "source": [
        "!pip install braket.circuits.visualization"
      ],
      "cell_type": "code",
      "metadata": {
        "colab": {
          "base_uri": "https://localhost:8080/"
        },
        "id": "FFwCfFFsi-qw",
        "outputId": "16601cd6-5e43-42c3-b2bd-0ab9625381b7"
      },
      "execution_count": 15,
      "outputs": [
        {
          "output_type": "stream",
          "name": "stdout",
          "text": [
            "\u001b[31mERROR: Could not find a version that satisfies the requirement braket.circuits.visualization (from versions: none)\u001b[0m\u001b[31m\n",
            "\u001b[0m\u001b[31mERROR: No matching distribution found for braket.circuits.visualization\u001b[0m\u001b[31m\n",
            "\u001b[0m"
          ]
        }
      ]
    },
    {
      "source": [
        "!pip install git+https://github.com/aws/amazon-braket-sdk-python.git"
      ],
      "cell_type": "code",
      "metadata": {
        "colab": {
          "base_uri": "https://localhost:8080/"
        },
        "id": "u8rc3_S5jKWq",
        "outputId": "68733633-84af-4693-de29-d40c045a3a07"
      },
      "execution_count": 16,
      "outputs": [
        {
          "output_type": "stream",
          "name": "stdout",
          "text": [
            "Collecting git+https://github.com/aws/amazon-braket-sdk-python.git\n",
            "  Cloning https://github.com/aws/amazon-braket-sdk-python.git to /tmp/pip-req-build-r_7omdr0\n",
            "  Running command git clone --filter=blob:none --quiet https://github.com/aws/amazon-braket-sdk-python.git /tmp/pip-req-build-r_7omdr0\n",
            "  Resolved https://github.com/aws/amazon-braket-sdk-python.git to commit 788b198ddc66dc395b9761d1f92e38524d6eeed2\n",
            "  Installing build dependencies ... \u001b[?25l\u001b[?25hdone\n",
            "  Getting requirements to build wheel ... \u001b[?25l\u001b[?25hdone\n",
            "  Preparing metadata (pyproject.toml) ... \u001b[?25l\u001b[?25hdone\n",
            "Requirement already satisfied: amazon-braket-schemas>=1.19.1 in /usr/local/lib/python3.10/dist-packages (from amazon-braket-sdk==1.65.1.dev0) (1.19.1.post0)\n",
            "Requirement already satisfied: amazon-braket-default-simulator>=1.19.1 in /usr/local/lib/python3.10/dist-packages (from amazon-braket-sdk==1.65.1.dev0) (1.20.1)\n",
            "Requirement already satisfied: oqpy~=0.2.1 in /usr/local/lib/python3.10/dist-packages (from amazon-braket-sdk==1.65.1.dev0) (0.2.1)\n",
            "Requirement already satisfied: setuptools in /usr/local/lib/python3.10/dist-packages (from amazon-braket-sdk==1.65.1.dev0) (67.7.2)\n",
            "Requirement already satisfied: backoff in /usr/local/lib/python3.10/dist-packages (from amazon-braket-sdk==1.65.1.dev0) (2.2.1)\n",
            "Requirement already satisfied: boltons in /usr/local/lib/python3.10/dist-packages (from amazon-braket-sdk==1.65.1.dev0) (23.1.1)\n",
            "Requirement already satisfied: boto3>=1.28.53 in /usr/local/lib/python3.10/dist-packages (from amazon-braket-sdk==1.65.1.dev0) (1.34.6)\n",
            "Requirement already satisfied: cloudpickle==2.2.1 in /usr/local/lib/python3.10/dist-packages (from amazon-braket-sdk==1.65.1.dev0) (2.2.1)\n",
            "Requirement already satisfied: nest-asyncio in /usr/local/lib/python3.10/dist-packages (from amazon-braket-sdk==1.65.1.dev0) (1.5.8)\n",
            "Requirement already satisfied: networkx in /usr/local/lib/python3.10/dist-packages (from amazon-braket-sdk==1.65.1.dev0) (3.2.1)\n",
            "Requirement already satisfied: numpy in /usr/local/lib/python3.10/dist-packages (from amazon-braket-sdk==1.65.1.dev0) (1.23.5)\n",
            "Requirement already satisfied: openpulse in /usr/local/lib/python3.10/dist-packages (from amazon-braket-sdk==1.65.1.dev0) (0.4.2)\n",
            "Requirement already satisfied: openqasm3 in /usr/local/lib/python3.10/dist-packages (from amazon-braket-sdk==1.65.1.dev0) (0.4.0)\n",
            "Requirement already satisfied: sympy in /usr/local/lib/python3.10/dist-packages (from amazon-braket-sdk==1.65.1.dev0) (1.12)\n",
            "Requirement already satisfied: opt-einsum in /usr/local/lib/python3.10/dist-packages (from amazon-braket-default-simulator>=1.19.1->amazon-braket-sdk==1.65.1.dev0) (3.3.0)\n",
            "Requirement already satisfied: pydantic<2.0,>=1.9 in /usr/local/lib/python3.10/dist-packages (from amazon-braket-default-simulator>=1.19.1->amazon-braket-sdk==1.65.1.dev0) (1.10.13)\n",
            "Requirement already satisfied: scipy in /usr/local/lib/python3.10/dist-packages (from amazon-braket-default-simulator>=1.19.1->amazon-braket-sdk==1.65.1.dev0) (1.11.4)\n",
            "Requirement already satisfied: antlr4-python3-runtime==4.9.2 in /usr/local/lib/python3.10/dist-packages (from amazon-braket-default-simulator>=1.19.1->amazon-braket-sdk==1.65.1.dev0) (4.9.2)\n",
            "Requirement already satisfied: botocore<1.35.0,>=1.34.6 in /usr/local/lib/python3.10/dist-packages (from boto3>=1.28.53->amazon-braket-sdk==1.65.1.dev0) (1.34.6)\n",
            "Requirement already satisfied: jmespath<2.0.0,>=0.7.1 in /usr/local/lib/python3.10/dist-packages (from boto3>=1.28.53->amazon-braket-sdk==1.65.1.dev0) (1.0.1)\n",
            "Requirement already satisfied: s3transfer<0.11.0,>=0.10.0 in /usr/local/lib/python3.10/dist-packages (from boto3>=1.28.53->amazon-braket-sdk==1.65.1.dev0) (0.10.0)\n",
            "Requirement already satisfied: mypy-extensions>=0.2.0 in /usr/local/lib/python3.10/dist-packages (from oqpy~=0.2.1->amazon-braket-sdk==1.65.1.dev0) (1.0.0)\n",
            "Requirement already satisfied: mpmath>=0.19 in /usr/local/lib/python3.10/dist-packages (from sympy->amazon-braket-sdk==1.65.1.dev0) (1.3.0)\n",
            "Requirement already satisfied: python-dateutil<3.0.0,>=2.1 in /usr/local/lib/python3.10/dist-packages (from botocore<1.35.0,>=1.34.6->boto3>=1.28.53->amazon-braket-sdk==1.65.1.dev0) (2.8.2)\n",
            "Requirement already satisfied: urllib3<2.1,>=1.25.4 in /usr/local/lib/python3.10/dist-packages (from botocore<1.35.0,>=1.34.6->boto3>=1.28.53->amazon-braket-sdk==1.65.1.dev0) (2.0.7)\n",
            "Requirement already satisfied: typing-extensions>=4.2.0 in /usr/local/lib/python3.10/dist-packages (from pydantic<2.0,>=1.9->amazon-braket-default-simulator>=1.19.1->amazon-braket-sdk==1.65.1.dev0) (4.5.0)\n",
            "Requirement already satisfied: six>=1.5 in /usr/local/lib/python3.10/dist-packages (from python-dateutil<3.0.0,>=2.1->botocore<1.35.0,>=1.34.6->boto3>=1.28.53->amazon-braket-sdk==1.65.1.dev0) (1.16.0)\n"
          ]
        }
      ]
    },
    {
      "cell_type": "code",
      "source": [],
      "metadata": {
        "id": "nKMYWuFCj4_k"
      },
      "execution_count": null,
      "outputs": []
    },
    {
      "source": [
        "!pip install braket"
      ],
      "cell_type": "code",
      "metadata": {
        "colab": {
          "base_uri": "https://localhost:8080/"
        },
        "id": "H_YLsaWUj5kB",
        "outputId": "522c9f89-5350-4fe0-929c-261ae8a88eb2"
      },
      "execution_count": 19,
      "outputs": [
        {
          "output_type": "stream",
          "name": "stdout",
          "text": [
            "\u001b[31mERROR: Could not find a version that satisfies the requirement braket (from versions: none)\u001b[0m\u001b[31m\n",
            "\u001b[0m\u001b[31mERROR: No matching distribution found for braket\u001b[0m\u001b[31m\n",
            "\u001b[0m"
          ]
        }
      ]
    }
  ]
}