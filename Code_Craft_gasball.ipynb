{
  "nbformat": 4,
  "nbformat_minor": 0,
  "metadata": {
    "colab": {
      "provenance": [],
      "authorship_tag": "ABX9TyOw1FhnY73daKFzbNRCsY+O",
      "include_colab_link": true
    },
    "kernelspec": {
      "name": "python3",
      "display_name": "Python 3"
    },
    "language_info": {
      "name": "python"
    }
  },
  "cells": [
    {
      "cell_type": "markdown",
      "metadata": {
        "id": "view-in-github",
        "colab_type": "text"
      },
      "source": [
        "<a href=\"https://colab.research.google.com/github/walkerjian/Physics/blob/main/Code_Craft_gasball.ipynb\" target=\"_parent\"><img src=\"https://colab.research.google.com/assets/colab-badge.svg\" alt=\"Open In Colab\"/></a>"
      ]
    },
    {
      "cell_type": "code",
      "source": [
        "import math\n",
        "\n",
        "# Constants\n",
        "G = 6.67430e-11  # Gravitational constant in m^3/kg/s^2\n",
        "R = 1.737e6      # Radius of the Moon in meters\n",
        "M = 7.35e22      # Mass of the Moon in kilograms\n",
        "pi = math.pi     # Pi constant\n",
        "atm = 101325     # One Earth atmosphere in Pascals\n",
        "\n",
        "# Calculating the pressure at the center of a sphere\n",
        "def calculate_pressure(G, M, R, pi):\n",
        "    return (3 / 8) * (G * M**2) / (pi * R**4)\n",
        "\n",
        "# Calculate the pressure at the center in Pascals\n",
        "pressure_pascals = calculate_pressure(G, M, R, pi)\n",
        "\n",
        "# Convert the pressure to atmospheres\n",
        "pressure_atmospheres = pressure_pascals / atm\n",
        "\n",
        "print(\"The pressure at the center of a nitrogen ball the size of the Moon is approximately:\")\n",
        "print(f\"{pressure_pascals:.2e} Pascals\")\n",
        "print(f\"{pressure_atmospheres:.2e} Earth atmospheres\")\n"
      ],
      "metadata": {
        "colab": {
          "base_uri": "https://localhost:8080/"
        },
        "id": "FutpU_eNXaE9",
        "outputId": "2a015de6-7b19-48a5-d62e-f37e9a04b887"
      },
      "execution_count": 2,
      "outputs": [
        {
          "output_type": "stream",
          "name": "stdout",
          "text": [
            "The pressure at the center of a nitrogen ball the size of the Moon is approximately:\n",
            "4.73e+09 Pascals\n",
            "4.67e+04 Earth atmospheres\n"
          ]
        }
      ]
    }
  ]
}