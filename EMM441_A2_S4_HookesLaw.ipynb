{
  "nbformat": 4,
  "nbformat_minor": 0,
  "metadata": {
    "colab": {
      "provenance": [],
      "authorship_tag": "ABX9TyOAAn8A6BW0QhEjUi2HnzWg",
      "include_colab_link": true
    },
    "kernelspec": {
      "name": "python3",
      "display_name": "Python 3"
    },
    "language_info": {
      "name": "python"
    },
    "widgets": {
      "application/vnd.jupyter.widget-state+json": {
        "94ce2ba24dc44c64912c105e194951d8": {
          "model_module": "@jupyter-widgets/controls",
          "model_name": "VBoxModel",
          "model_module_version": "1.5.0",
          "state": {
            "_dom_classes": [
              "widget-interact"
            ],
            "_model_module": "@jupyter-widgets/controls",
            "_model_module_version": "1.5.0",
            "_model_name": "VBoxModel",
            "_view_count": null,
            "_view_module": "@jupyter-widgets/controls",
            "_view_module_version": "1.5.0",
            "_view_name": "VBoxView",
            "box_style": "",
            "children": [
              "IPY_MODEL_d2738a47701f498eb595e62fdff987e7",
              "IPY_MODEL_aa55d37702c4455b832ddcaa04a46a1e",
              "IPY_MODEL_5e0ab934682e4dd6ada7aa6b780777f5"
            ],
            "layout": "IPY_MODEL_0c8684d5cb1349aa90e90296a23e6373"
          }
        },
        "d2738a47701f498eb595e62fdff987e7": {
          "model_module": "@jupyter-widgets/controls",
          "model_name": "FloatSliderModel",
          "model_module_version": "1.5.0",
          "state": {
            "_dom_classes": [],
            "_model_module": "@jupyter-widgets/controls",
            "_model_module_version": "1.5.0",
            "_model_name": "FloatSliderModel",
            "_view_count": null,
            "_view_module": "@jupyter-widgets/controls",
            "_view_module_version": "1.5.0",
            "_view_name": "FloatSliderView",
            "continuous_update": true,
            "description": "k",
            "description_tooltip": null,
            "disabled": false,
            "layout": "IPY_MODEL_08bee850d13541668b4e1a4bd574c733",
            "max": 10,
            "min": 0.1,
            "orientation": "horizontal",
            "readout": true,
            "readout_format": ".2f",
            "step": 0.1,
            "style": "IPY_MODEL_67b23efb0d4a446b988edba13e5fa287",
            "value": 7.2
          }
        },
        "aa55d37702c4455b832ddcaa04a46a1e": {
          "model_module": "@jupyter-widgets/controls",
          "model_name": "FloatSliderModel",
          "model_module_version": "1.5.0",
          "state": {
            "_dom_classes": [],
            "_model_module": "@jupyter-widgets/controls",
            "_model_module_version": "1.5.0",
            "_model_name": "FloatSliderModel",
            "_view_count": null,
            "_view_module": "@jupyter-widgets/controls",
            "_view_module_version": "1.5.0",
            "_view_name": "FloatSliderView",
            "continuous_update": true,
            "description": "x",
            "description_tooltip": null,
            "disabled": false,
            "layout": "IPY_MODEL_f078168ea7544c55ac63417c6b763785",
            "max": 10,
            "min": 0,
            "orientation": "horizontal",
            "readout": true,
            "readout_format": ".2f",
            "step": 0.1,
            "style": "IPY_MODEL_20381d27aa014d4bbe065f8963d29583",
            "value": 1.8
          }
        },
        "5e0ab934682e4dd6ada7aa6b780777f5": {
          "model_module": "@jupyter-widgets/output",
          "model_name": "OutputModel",
          "model_module_version": "1.0.0",
          "state": {
            "_dom_classes": [],
            "_model_module": "@jupyter-widgets/output",
            "_model_module_version": "1.0.0",
            "_model_name": "OutputModel",
            "_view_count": null,
            "_view_module": "@jupyter-widgets/output",
            "_view_module_version": "1.0.0",
            "_view_name": "OutputView",
            "layout": "IPY_MODEL_7000bd5115994db0a13df69b02f170fa",
            "msg_id": "",
            "outputs": [
              {
                "output_type": "display_data",
                "data": {
                  "text/plain": "<Figure size 1000x500 with 1 Axes>",
                  "image/png": "iVBORw0KGgoAAAANSUhEUgAAA1sAAAHWCAYAAACBjZMqAAAAOXRFWHRTb2Z0d2FyZQBNYXRwbG90bGliIHZlcnNpb24zLjcuMSwgaHR0cHM6Ly9tYXRwbG90bGliLm9yZy/bCgiHAAAACXBIWXMAAA9hAAAPYQGoP6dpAABKVUlEQVR4nO3deVhV1f7H8c8BAREEBJVBEXDKWXO4XkUcCsMcyjLNezXRyganELW0UnMuKzWHNL2mDVo2OHS7auKEkmOaNjiXUyaYGqCSiLB/f/hwfp5AxePZIPB+PQ/P41l77XW+e7NQPu6917EYhmEIAAAAAOBQTgVdAAAAAAAURYQtAAAAADABYQsAAAAATEDYAgAAAAATELYAAAAAwASELQAAAAAwAWELAAAAAExA2AIAAAAAExC2AAAAAMAEhC0AuEOtW7dWnTp1CroM4Lb17t1boaGhBV3GXad3797y9PQs6DIAFAGELQCF2sKFC2WxWPTdd9/lur2wBaGNGzfKYrHo2LFjdzzW3foLY/b3LPurZMmSCgoKUlRUlKZPn64LFy4UdIn5bvHixZo2bZopY//+++967bXXtGfPHlPGd6S/z43rv4YPH17Q5QHAbStR0AUAAIqnsWPHKiwsTBkZGUpMTNTGjRsVExOjKVOm6KuvvlK9evUKusR8s3jxYv3000+KiYlx+Ni///67xowZo9DQUDVo0MBm27x585SVleXw97xT2XPjeoXpP00AIBthCwBQIB588EE1btzY+nrEiBFav369OnbsqIceekj79++Xu7t7AVZ4d7p8+bJcXV3l5HTnN6e4uLg4oCLH+/vcAIDCitsIARQ7V69e1bhx41SlShW5ubkpNDRUL7/8stLT03P0fffdd1W7dm25ubkpKChI/fv3V3Jy8i3fY82aNSpVqpT+9a9/6erVq5KkAwcO6LHHHpOvr69Kliypxo0b66uvvrrlWIcPH1aXLl0UEBCgkiVLqmLFiurevbtSUlJu+9j/7vjx4+rXr5/uueceubu7y8/PT127drW5jTE5OVnOzs6aPn26te3s2bNycnKSn5+fDMOwtj///PMKCAiwu5777rtPI0eO1PHjx/Xxxx/bbMvL+cu+DS0hIUGDBg1SuXLl5OPjo2effVZXrlxRcnKyevXqpTJlyqhMmTJ68cUXbeqXpEuXLmnIkCEKDg6Wm5ub7rnnHr311ls5+lksFg0YMEDLly9XnTp15Obmptq1a2v16tU2/S5cuKCYmBiFhobKzc1N5cuXV9u2bbV7925J1251/d///qfjx49bb5nLfo4q+7bSTz/9VK+++qoqVKigUqVKKTU1VefPn9fQoUNVt25deXp6ysvLSw8++KD27t1rfe+NGzeqSZMmkqQ+ffpYx1+4cKGk3J/ZcvTxZ3/vTpw4kaO9MNmzZ4/KlSun1q1b6+LFi1q/fr2cnJw0atQom36LFy+WxWLR7NmzC6hSAHcTrmwBKBJSUlJ09uzZHO0ZGRk52p5++ml98MEHeuyxxzRkyBBt375dkyZN0v79+7Vs2TJrv9dee01jxoxRZGSknn/+eR08eFCzZ8/Wzp079e23397wqsDXX3+txx57TI8//rjef/99OTs76+eff1Z4eLgqVKig4cOHy8PDQ5999pk6d+6sL7/8Uo888kiuY125ckVRUVFKT0/XwIEDFRAQoFOnTunrr79WcnKyvL297Txj1+zcuVNbtmxR9+7dVbFiRR07dkyzZ89W69attW/fPpUqVUo+Pj6qU6eONm3apEGDBkmSEhISZLFYdP78ee3bt0+1a9eWJG3evFkRERF3VNMTTzyhl19+WWvWrFHfvn0l6bbPX/a5GjNmjLZt26a5c+fKx8dHW7ZsUaVKlTRx4kStXLlSb775purUqaNevXpJkgzD0EMPPaQNGzboqaeeUoMGDfTNN99o2LBhOnXqlKZOnWrzPgkJCVq6dKn69eun0qVLa/r06erSpYtOnDghPz8/SdJzzz2nL774QgMGDFCtWrV07tw5JSQkaP/+/WrYsKFeeeUVpaSk6LfffrOO//dn7caNGydXV1cNHTpU6enpcnV11b59+7R8+XJ17dpVYWFhSkpK0nvvvadWrVpp3759CgoKUs2aNTV27FiNGjVKzzzzjPV707x581zPvRnHL0k1a9ZUq1attHHjxjzNgdx+nsuWLXvTfdLS0pSWlnbLsZ2dnVWmTJk81ZFt586dioqKUuPGjbVixQq5u7vrvvvuU79+/TRp0iR17txZDRs21OnTpzVw4EBFRkbqueeeu633AFBEGQBQiC1YsMCQdNOv2rVrW/vv2bPHkGQ8/fTTNuMMHTrUkGSsX7/eMAzDOHPmjOHq6mo88MADRmZmprXfzJkzDUnG+++/b21r1aqV9T2+/PJLw8XFxejbt6/Nfvfff79Rt25d4/Lly9a2rKwso3nz5ka1atVueHzff/+9Icn4/PPPb/vcREdHGx4eHjftk5aWlqNt69athiTjww8/tLb179/f8Pf3t76OjY01WrZsaZQvX96YPXu2YRiGce7cOcNisRjvvPPOTd8z+3u2c+fOG/bx9vY27r33XuvrvJ6/7LGjoqKMrKwsa3uzZs0Mi8ViPPfcc9a2q1evGhUrVjRatWplbVu+fLkhyRg/frxNPY899phhsViMI0eOWNskGa6urjZte/fuNSQZM2bMsDmW/v373/ScdOjQwQgJCcnRvmHDBkOSUbly5Rzfq8uXL9vMMcMwjKNHjxpubm7G2LFjrW07d+40JBkLFizIMX50dLTN+5px/Nl9rz/PN3Kzn+dbGT169C3/LpCU63n+u+t/dhISEgwvLy+jQ4cONvPPMAzj0qVLRtWqVY3atWsbly9fNjp06GB4eXkZx48fv+V7ACgeuI0QQJEwa9YsxcXF5fj6+yILK1eulCTFxsbatA8ZMkSS9L///U+StHbtWl25ckUxMTE2z8b07dtXXl5e1n7X++STT/T444/r2Wef1XvvvWfd7/z581q/fr26deumCxcu6OzZszp79qzOnTunqKgoHT58WKdOncr1uLKvXH3zzTd5+l/723X9M1EZGRk6d+6cqlatKh8fH+ttbpIUERGhpKQkHTx4UNK1K1gtW7ZURESENm/eLOnaVQ7DMO74ypZ07cpO9qqE9py/p556ShaLxfq6adOmMgxDTz31lLXN2dlZjRs31q+//mptW7lypZydna1X8LINGTJEhmFo1apVNu2RkZGqUqWK9XW9evXk5eVlM6aPj4+2b9+u33//3e7zER0dneP5NTc3N+scy8zM1Llz5+Tp6al77rnH5nt3O8w4funaFbO8XtWScv95vpVevXrl+nfA378WLVqU5zo2bNigqKgo3X///Vq6dKnc3NxstpcqVUoLFy7U/v371bJlS/3vf//T1KlTValSpTy/B4CijdsIARQJ//jHP3J9oL5MmTI2tyMdP35cTk5Oqlq1qk2/gIAA+fj46Pjx49Z+knTPPffY9HN1dVXlypWt27MdPXpUPXv2VNeuXTVjxgybbUeOHJFhGBo5cqRGjhyZa/1nzpxRhQoVcrSHhYUpNjZWU6ZM0aJFixQREaGHHnpIPXv2vONbCCXpr7/+0qRJk7RgwQKdOnXK5rmc658Jyw5QmzdvVsWKFfX9999r/PjxKleunN566y3rNi8vL9WvX/+O67p48aLKly8vyb7z9/dfdrPPVXBwcI72P//80/r6+PHjCgoKUunSpW361axZ07r9ern9Ul2mTBmbMSdPnqzo6GgFBwerUaNGat++vXr16qXKlSvnfvC5+PvKfJKUlZWld955R++++66OHj2qzMxM67brb+G7HWYcvz1u9PN8M5UrV76tc3orly9fVocOHdSoUSN99tlnKlEi91+ZwsPD9fzzz2vWrFmKiorSk08+6bAaABR+hC0AxdL1Vz0cITAwUIGBgVq5cqW+++47m18Us5fWHjp0qKKionLd/+/h73pvv/22evfurRUrVmjNmjUaNGiQJk2apG3btqlixYp3VPfAgQO1YMECxcTEqFmzZvL29pbFYlH37t1tlgQPCgpSWFiYNm3apNDQUBmGoWbNmqlcuXJ64YUXdPz4cW3evFnNmze/41XyfvvtN6WkpFjPiT3nz9nZOdd+ubUbf1v44Xbc6H2uH7Nbt26KiIjQsmXLtGbNGr355pt64403tHTpUj344IN5ep/cVmWcOHGiRo4cqSeffFLjxo2Tr6+vnJycFBMTk2/Luefl+PPLxYsXdfHixVv2c3Z2Vrly5W7Zz83NTe3bt9eKFSu0evVqdezYMdd+6enp1qt2v/zyi9LS0lSqVKnbqh1A0UXYAlCshISEKCsrS4cPH7b+b70kJSUlKTk5WSEhIdZ+knTw4EGb/y2/cuWKjh49qsjISJtxS5Ysqa+//lr33Xef2rVrp/j4eOuiEdn7u7i45Ngvr+rWrau6devq1Vdf1ZYtWxQeHq45c+Zo/Pjxdo2X7YsvvlB0dLTefvtta9vly5dzXXExIiJCmzZtUlhYmBo0aKDSpUurfv368vb21urVq7V7926NGTPmjuqRpI8++kiSrMHKEecvr0JCQrR27VpduHDB5urOgQMHrNvtERgYqH79+qlfv346c+aMGjZsqAkTJljDlj3h/4svvlCbNm00f/58m/bk5GSbxSRuZ2yzjj8/vPXWW3mafyEhIXn60HCLxaJFixbp4YcfVteuXbVq1Sq1bt06R7/Ro0dr//79euutt/TSSy9p+PDhNit3AijeeGYLQLHSvn17SdK0adNs2qdMmSJJ6tChg6Rrz6K4urpq+vTpNv9LP3/+fKWkpFj7Xc/b21vffPONdWnvX375RZJUvnx5tW7dWu+9955Onz6dY78//vjjhvWmpqZal47PVrduXTk5OeW6VP3tcnZ2znEVYsaMGTa3pGWLiIjQsWPHtGTJEutthU5OTmrevLmmTJmijIyMO35ea/369Ro3bpzCwsLUo0cPSXd2/m5X+/btlZmZqZkzZ9q0T506VRaLJc9XorJlZmbmWKK/fPnyCgoKsvn+eXh43PZS/rl97z7//PMcz695eHhIUp4+ssDRx58tP5Z+N+OZLVdXVy1dulRNmjRRp06dtGPHDpvt27dv11tvvaWYmBgNGTJEw4YN08yZMxUfH+/owwNQSHFlC0CxUr9+fUVHR2vu3LlKTk5Wq1attGPHDn3wwQfq3Lmz2rRpI0kqV66cRowYoTFjxqhdu3Z66KGHdPDgQb377rtq0qSJevbsmev4ZcuWVVxcnFq0aKHIyEglJCSoQoUKmjVrllq0aKG6deuqb9++qly5spKSkrR161b99ttvNp+NdL3169drwIAB6tq1q6pXr66rV6/qo48+krOzs7p06XLL483IyMj16pevr6/69eunjh076qOPPpK3t7dq1aqlrVu3au3atbk+85MdpA4ePKiJEyda21u2bKlVq1bJzc3N+plOebFq1SodOHBAV69eVVJSktavX6+4uDiFhIToq6++UsmSJa197T1/t6tTp05q06aNXnnlFR07dkz169fXmjVrtGLFCsXExNgsBpEXFy5cUMWKFfXYY4+pfv368vT01Nq1a7Vz506bq4mNGjXSkiVLFBsbqyZNmsjT01OdOnW66dgdO3bU2LFj1adPHzVv3lw//vijFi1alOO5pSpVqsjHx0dz5sxR6dKl5eHhoaZNm+b6HJijjz/b7S79bg9HP7OVzd3d3XrV+sEHH1R8fLzq1Kmjy5cvKzo6WtWqVdOECRMkSWPGjNF///tf9enTRz/++KM16AIoxgpgBUQAcJhbLSN+/bLs2TIyMowxY8YYYWFhhouLixEcHGyMGDEix7LOhnFtqfcaNWoYLi4uhr+/v/H8888bf/755y3f48iRI0ZgYKBRs2ZN448//jAMwzB++eUXo1evXkZAQIDh4uJiVKhQwejYsaPxxRdf3PD4fv31V+PJJ580qlSpYpQsWdLw9fU12rRpY6xdu/aW5yY6OvqGy19XqVLFMAzD+PPPP40+ffoYZcuWNTw9PY2oqCjjwIEDRkhIiBEdHZ1jzPLlyxuSjKSkJGtbQkKCIcmIiIi4ZU2GkXN5b1dXVyMgIMBo27at8c477xipqam57peX83ej+ZC9LHj29+L6c/T35fEvXLhgDB482AgKCjJcXFyMatWqGW+++abNUvKGcW0589yWdL/+3KWnpxvDhg0z6tevb5QuXdrw8PAw6tevb7z77rs2+1y8eNH497//bfj4+NgsT5699HtuS/9fvnzZGDJkiBEYGGi4u7sb4eHhxtatW41WrVrlWGZ9xYoVRq1atYwSJUrYLAP/96XfHX381/e9naXfb/axAPkht3lx9uxZo1atWkZAQIBx+PBhY/DgwYazs7Oxfft2m37fffedUaJECeP555/Pz5IB3KUshlEAT7ECAAAAQBHHM1sAAAAAYALCFgAAAACYgLAFAAAAACYo0LC1adMmderUSUFBQbJYLFq+fLnNdsMwNGrUKAUGBsrd3V2RkZE6fPiwTZ/z58+rR48e8vLyko+Pj5566qk8faghAAAAAJipQMPWpUuXVL9+fc2aNSvX7ZMnT9b06dM1Z84cbd++XR4eHoqKitLly5etfXr06KGff/5ZcXFx+vrrr7Vp0yY988wz+XUIAAAAAJCru2Y1QovFomXLlqlz586Srl3VCgoK0pAhQzR06FBJUkpKivz9/bVw4UJ1795d+/fvV61atbRz5041btxYkrR69Wq1b99ev/32m4KCggrqcAAAAAAUc3fthxofPXpUiYmJioyMtLZ5e3uradOm2rp1q7p3766tW7fKx8fHGrQkKTIyUk5OTtq+fbseeeSRXMdOT09Xenq69XVWVpbOnz8vPz8/WSwW8w4KAAAAwF3NMAxduHBBQUFBcnK6sxsB79qwlZiYKEny9/e3aff397duS0xMVPny5W22lyhRQr6+vtY+uZk0aZLGjBnj4IoBAAAAFBUnT55UxYoV72iMuzZsmWnEiBGKjY21vk5JSVGlSpV06NAh+fr6FmBlKOoyMjK0YcMGtWnTRi4uLgVdDoow5hryC3MN+YW5hvxy/vx5Va9eXaVLl77jse7asBUQECBJSkpKUmBgoLU9KSlJDRo0sPY5c+aMzX5Xr17V+fPnrfvnxs3NTW5ubjnafX195efn54DqgdxlZGSoVKlS8vPz4x8KmIq5hvzCXEN+Ya4hvzni8aK79nO2wsLCFBAQoHXr1lnbUlNTtX37djVr1kyS1KxZMyUnJ2vXrl3WPuvXr1dWVpaaNm2a7zUDAAAAQLYCvbJ18eJFHTlyxPr66NGj2rNnj3x9fVWpUiXFxMRo/PjxqlatmsLCwjRy5EgFBQVZVyysWbOm2rVrp759+2rOnDnKyMjQgAED1L17d1YiBAAAAFCgCjRsfffdd2rTpo31dfZzVNHR0Vq4cKFefPFFXbp0Sc8884ySk5PVokULrV69WiVLlrTus2jRIg0YMED333+/nJyc1KVLF02fPj3fjwUAAAAArlegYat169a62cd8WSwWjR07VmPHjr1hH19fXy1evNiM8gAAAADAbnftM1sAAAAAUJgRtgAAAADABIQtAAAAADABYQsAAAAATEDYAgAAAAATELYAAAAAwASELQAAAAAwAWELAAAAAExA2AIAAAAAExC2AAAAAMAEhC0AAAAAMAFhCwAAAABMQNgCAAAAABMQtgAAAADABIQtAAAAADABYQsAAAAATEDYAgAAAAATELYAAAAAwASELQAAAAAwAWELAAAAAExA2AIAAAAAExC2AAAAAMAEhC0AAAAAMAFhCwAAAABMQNgCAAAAABMQtgAAAADABIQtAAAAADABYQsAAAAATEDYAgAAAAATELYAAAAAwASELQAAAAAwAWELAAAAAExA2AIAAAAAExC2AAAAAMAEhC0AAAAAMAFhCwAAAABMQNgCAAAAABMQtgAAAADABIQtAAAAADABYQsAAAAATEDYAgAAAAATELYAAAAAwASELQAAAAAwAWELAAAAAExA2AIAAAAAExC2AAAAAMAEhC0AAAAAMAFhCwAAAABMQNgCAAAAABMQtgAAAADABIQtAAAAADABYQsAAAAATEDYAgAAAAATELYAAAAAwASELQAAAAAwAWELAAAAAExA2AIAAAAAExC2AAAAAMAEhC0AAAAAMAFhCwAAAABMQNgCAAAAABMQtgAAAADABIQtAAAAADABYQsAAAAATEDYAgAAAAATELYAAAAAwAR3ddjKzMzUyJEjFRYWJnd3d1WpUkXjxo2TYRjWPoZhaNSoUQoMDJS7u7siIyN1+PDhAqwaAAAAAO7ysPXGG29o9uzZmjlzpvbv36833nhDkydP1owZM6x9Jk+erOnTp2vOnDnavn27PDw8FBUVpcuXLxdg5QAAAACKuxIFXcDNbNmyRQ8//LA6dOggSQoNDdUnn3yiHTt2SLp2VWvatGl69dVX9fDDD0uSPvzwQ/n7+2v58uXq3r17gdUOAAAAoHi7q8NW8+bNNXfuXB06dEjVq1fX3r17lZCQoClTpkiSjh49qsTEREVGRlr38fb2VtOmTbV169Ybhq309HSlp6dbX6empkqSMjIylJGRYeIRobjLnl/MM5iNuYb8wlxDfmGuIb84co7d1WFr+PDhSk1NVY0aNeTs7KzMzExNmDBBPXr0kCQlJiZKkvz9/W328/f3t27LzaRJkzRmzJgc7Rs2bFCpUqUceARA7uLi4gq6BBQTzDXkF+Ya8gtzDWZLS0tz2Fh3ddj67LPPtGjRIi1evFi1a9fWnj17FBMTo6CgIEVHR9s97ogRIxQbG2t9nZqaquDgYLVp00Z+fn6OKB3IVUZGhuLi4tS2bVu5uLgUdDkowphryC/MNeQX5hryy7lz5xw21l0dtoYNG6bhw4dbbwesW7eujh8/rkmTJik6OloBAQGSpKSkJAUGBlr3S0pKUoMGDW44rpubm9zc3HK0u7i48MOLfMFcQ35hriG/MNeQX5hrMJsj59ddvRphWlqanJxsS3R2dlZWVpYkKSwsTAEBAVq3bp11e2pqqrZv365mzZrla60AAAAAcL27+spWp06dNGHCBFWqVEm1a9fW999/rylTpujJJ5+UJFksFsXExGj8+PGqVq2awsLCNHLkSAUFBalz584FWzwAAACAYu2uDlszZszQyJEj1a9fP505c0ZBQUF69tlnNWrUKGufF198UZcuXdIzzzyj5ORktWjRQqtXr1bJkiULsHIAAAAAxd1dHbZKly6tadOmadq0aTfsY7FYNHbsWI0dOzb/CgMAAACAW7irn9kCAAAAgMKKsAUAAAAAJiBsAQAAAIAJCFsAAAAAYALCFgAAAACYgLAFAAAAACYgbAEAAACACQhbAAAAAGACwhYAAAAAmICwBQAAAAAmIGwBAAAAgAkIWwAAAABgAsIWAAAAAJiAsAUAAAAAJiBsAQAAAIAJCFsAAAAAYALCFgAAAACYgLAFAAAAACYgbAEAAACACQhbAAAAAGACwhYAAAAAmICwBQAAAAAmIGwBAAAAgAkIWwAAAABgAsIWAAAAAJiAsAUAAAAAJiBsAQAAAIAJCFsAAAAAYALCFgAAAACYgLAFAAAAACYgbAEAAACACQhbAAAAAGACwhYAAAAAmICwBQAAAAAmIGwBAAAAgAkIWwAAAABgAsIWAAAAAJiAsAUAAAAAJiBsAQAAAIAJHBa2kpOTHTUUAAAAABR6doWtN954Q0uWLLG+7tatm/z8/FShQgXt3bvXYcUBAAAAQGFlV9iaM2eOgoODJUlxcXGKi4vTqlWr9OCDD2rYsGEOLRAAAAAACqMS9uyUmJhoDVtff/21unXrpgceeEChoaFq2rSpQwsEAAAAgMLIritbZcqU0cmTJyVJq1evVmRkpCTJMAxlZmY6rjoAAAAAKKTsurL16KOP6t///reqVaumc+fO6cEHH5Qkff/996patapDCwQAAACAwsiusDV16lSFhobq5MmTmjx5sjw9PSVJp0+fVr9+/RxaIAAAAAAURnaFLRcXFw0dOjRH++DBg++4IAAAAAAoCuwKW5J0+PBhbdiwQWfOnFFWVpbNtlGjRt1xYQAAAABQmNkVtubNm6fnn39eZcuWVUBAgCwWi3WbxWIhbAEAAAAo9uwKW+PHj9eECRP00ksvOboeAAAAACgS7Fr6/c8//1TXrl0dXQsAAAAAFBl2ha2uXbtqzZo1jq4FAAAAAIoMu24jrFq1qkaOHKlt27apbt26cnFxsdk+aNAghxQHAAAAAIWVXWFr7ty58vT0VHx8vOLj4222WSwWwhYAAACAYs+usHX06FFH1wEAAAAARYpdz2xdzzAMGYbhiFoAAAAAoMiwO2x9+OGHqlu3rtzd3eXu7q569erpo48+cmRtAAAAAFBo2XUb4ZQpUzRy5EgNGDBA4eHhkqSEhAQ999xzOnv2rAYPHuzQIgEAAACgsLErbM2YMUOzZ89Wr169rG0PPfSQateurddee42wBQAAAKDYs+s2wtOnT6t58+Y52ps3b67Tp0/fcVEAAAAAUNjZFbaqVq2qzz77LEf7kiVLVK1atTsuCgAAAAAKO7tuIxwzZowef/xxbdq0yfrM1rfffqt169blGsIAAAAAoLix68pWly5dtH37dpUtW1bLly/X8uXLVbZsWe3YsUOPPPKIo2sEAAAAgELHritbktSoUSN9/PHHjqwFAAAAAIoMu65sOTs768yZMznaz507J2dn5zsuCgAAAAAKO7vClmEYubanp6fL1dX1jgoCAAAAgKLgtm4jnD59uiTJYrHoP//5jzw9Pa3bMjMztWnTJtWoUcOhBZ46dUovvfSSVq1apbS0NFWtWlULFixQ48aNJV0LfqNHj9a8efOUnJys8PBwzZ49m1URAQAAABSo2wpbU6dOlXQt4MyZM8fmlkFXV1eFhoZqzpw5Divuzz//VHh4uNq0aaNVq1apXLlyOnz4sMqUKWPtM3nyZE2fPl0ffPCBwsLCNHLkSEVFRWnfvn0qWbKkw2oBAAAAgNtxW2Hr6NGjkqQ2bdpo6dKlNqHHDG+88YaCg4O1YMECa1tYWJj1z4ZhaNq0aXr11Vf18MMPS5I+/PBD+fv7a/ny5erevbup9QEAAADAjdi1GuH8+fNND1qS9NVXXykqKkpdu3ZVfHy8KlSooH79+qlv376SroW/xMRERUZGWvfx9vZW06ZNtXXr1huGrfT0dKWnp1tfp6amSpIyMjKUkZFh4hGhuMueX8wzmI25hvzCXEN+Ya4hvzhyjtkVtqpWraqKFSuqVatWat26tVq1aqWqVas6rKhsv/76q2bPnq3Y2Fi9/PLL2rlzpwYNGiRXV1dFR0crMTFRkuTv72+zn7+/v3VbbiZNmqQxY8bkaN+wYYNKlSrl2IMAchEXF1fQJaCYYK4hvzDXkF+YazBbWlqaw8ayGDdaWvAmTp06pY0bNyo+Pl7x8fE6fPiwgoKC1KpVK7Vp00ZPP/20Q4pzdXVV48aNtWXLFmvboEGDtHPnTm3dulVbtmxReHi4fv/9dwUGBlr7dOvWTRaLRUuWLMl13NyubAUHB+v06dPy8/NzSO1AbjIyMhQXF6e2bdvKxcWloMtBEcZcQ35hriG/MNeQX86dO6fAwEClpKTIy8vrjsay68pWhQoV1KNHD/Xo0UOSdPjwYU2YMEGLFi3Sp59+6rCwFRgYqFq1atm01axZU19++aUkKSAgQJKUlJRkE7aSkpLUoEGDG47r5uYmNze3HO0uLi788CJfMNeQX5hryC/MNeQX5hrM5sj5ZdfnbKWlpWnNmjV6+eWX1bx5c9WrV0979+7VgAEDtHTpUocVFx4eroMHD9q0HTp0SCEhIZKuLZYREBCgdevWWbenpqZq+/btatasmcPqAAAAAIDbZdeVLR8fH5UpU0Y9evTQ8OHDFRERYcqCGYMHD1bz5s01ceJEdevWTTt27NDcuXM1d+5cSdc+7ysmJkbjx49XtWrVrEu/BwUFqXPnzg6vBwAAAADyyq6w1b59eyUkJOjTTz9VYmKiEhMT1bp1a1WvXt2hxTVp0kTLli3TiBEjNHbsWIWFhWnatGnW2xcl6cUXX9SlS5f0zDPPKDk5WS1atNDq1av5jC0AAAAABcqusLV8+XJJ0g8//KD4+HitWbNGI0eOVIkSJdS6dWstWrTIYQV27NhRHTt2vOF2i8WisWPHauzYsQ57TwAAAAC4U3aFrWx169bV1atXdeXKFV2+fFnffPONlixZ4tCwBQAAAACFkV0LZEyZMkUPPfSQ/Pz81LRpU33yySeqXr26vvzyS/3xxx+OrhEAAAAACh27rmx98sknatWqlZ555hlFRETI29vb0XUBAAAAQKFmV9jauXOno+sAAAAAgCLFrtsIJWnz5s3q2bOnmjVrplOnTkmSPvroIyUkJDisOAAAAAAorOwKW19++aWioqLk7u6u77//Xunp6ZKklJQUTZw40aEFAgAAAEBhZFfYGj9+vObMmaN58+bJxcXF2h4eHq7du3c7rDgAAAAAKKzsClsHDx5Uy5Ytc7R7e3srOTn5TmsCAAAAgELPrrAVEBCgI0eO5GhPSEhQ5cqV77goAAAAACjs7Apbffv21QsvvKDt27fLYrHo999/16JFizR06FA9//zzjq4RAAAAAAodu5Z+Hz58uLKysnT//fcrLS1NLVu2lJubm4YOHaqBAwc6ukYAAAAAKHTsClsWi0WvvPKKhg0bpiNHjujixYuqVauWPD09HV0fAAAAABRKdoWtbK6urqpVq5ajagEAAACAIsOusHXp0iW9/vrrWrdunc6cOaOsrCyb7b/++qtDigMAAACAwsqusPX0008rPj5eTzzxhAIDA2WxWBxdFwAAAAAUanaFrVWrVul///ufwsPDHV0PAAAAABQJdi39XqZMGfn6+jq6FgAAAAAoMuwKW+PGjdOoUaOUlpbm6HoAAAAAoEiw6zbCt99+W7/88ov8/f0VGhoqFxcXm+27d+92SHEAAAAAUFjZFbY6d+7s4DIAAAAAoGixK2yNHj3a0XUAAAAAQJFi1zNbAAAAAICbI2wBAAAAgAkIWwAAAABgAsIWAAAAAJiAsAUAAAAAJrBrNcLMzEwtXLhQ69at05kzZ5SVlWWzff369Q4pDgAAAAAKK7vC1gsvvKCFCxeqQ4cOqlOnjiwWi6PrAgAAAIBCza6w9emnn+qzzz5T+/btHV0PAAAAABQJdj2z5erqqqpVqzq6FgAAAAAoMuwKW0OGDNE777wjwzAcXQ8AAAAAFAl23UaYkJCgDRs2aNWqVapdu7ZcXFxsti9dutQhxQEAAABAYWVX2PLx8dEjjzzi6FoAAAAAoMiwK2wtWLDA0XUAAAAAQJHChxoDAAAAgAnyfGWrYcOGWrduncqUKaN77733pp+ttXv3bocUBwAAAACFVZ7D1sMPPyw3NzdJUufOnc2qBwAAAACKhDyHrdGjR+f6ZwAAAABATjyzBQAAAAAmIGwBAAAAgAkIWwAAAABgAsIWAAAAAJiAsAUAAAAAJsjzaoTZsrKyFB8fr82bN+v48eNKS0tTuXLldO+99yoyMlLBwcFm1AkAAAAAhUqer2z99ddfGj9+vIKDg9W+fXutWrVKycnJcnZ21pEjRzR69GiFhYWpffv22rZtm5k1AwAAAMBdL89XtqpXr65mzZpp3rx5atu2rVxcXHL0OX78uBYvXqzu3bvrlVdeUd++fR1aLAAAAAAUFnkOW2vWrFHNmjVv2ickJEQjRozQ0KFDdeLEiTsuDgAAAAAKqzzfRniroHU9FxcXValSxa6CAAAAAKAouK3VCHv16qULFy5YX+/du1cZGRkOLwoAAAAACrvbCluLFi3SX3/9ZX0dERGhkydPOrwoAAAAACjsbitsGYZx09cAAAAAgGv4UGMAAAAAMMFtf6jxvn37lJiYKOnala0DBw7o4sWLNn3q1avnmOoAAAAAoJC67bB1//3329w+2LFjR0mSxWKRYRiyWCzKzMx0XIUAAAAAUAjdVtg6evSoWXUAAAAAQJFyW2ErJCTErDoAAAAAoEjJ8wIZJ06cuK2BT506ddvFAAAAAEBRkeew1aRJEz377LPauXPnDfukpKRo3rx5qlOnjr788kuHFAgAAAAAhVGebyPct2+fJkyYoLZt26pkyZJq1KiRgoKCVLJkSf3555/at2+ffv75ZzVs2FCTJ09W+/btzawbAAAAAO5qeb6y5efnpylTpuj06dOaOXOmqlWrprNnz+rw4cOSpB49emjXrl3aunUrQQsAAABAsXfbS7+7u7vrscce02OPPWZGPQAAAABQJOT5yhYAAAAAIO8IWwAAAABgAsIWAAAAAJiAsAUAAAAAJiBsAQAAAIAJ7A5bH330kcLDwxUUFKTjx49LkqZNm6YVK1Y4rLi/e/3112WxWBQTE2Ntu3z5svr37y8/Pz95enqqS5cuSkpKMq0GAAAAAMgLu8LW7NmzFRsbq/bt2ys5OVmZmZmSJB8fH02bNs2R9Vnt3LlT7733nurVq2fTPnjwYP33v//V559/rvj4eP3+++969NFHTakBAAAAAPLKrrA1Y8YMzZs3T6+88oqcnZ2t7Y0bN9aPP/7osOKyXbx4UT169NC8efNUpkwZa3tKSormz5+vKVOm6L777lOjRo20YMECbdmyRdu2bXN4HQAAAACQV7f9ocaSdPToUd1777052t3c3HTp0qU7Lurv+vfvrw4dOigyMlLjx4+3tu/atUsZGRmKjIy0ttWoUUOVKlXS1q1b9c9//jPX8dLT05Wenm59nZqaKknKyMhQRkaGw+sHsmXPL+YZzMZcQ35hriG/MNeQXxw5x+wKW2FhYdqzZ49CQkJs2levXq2aNWs6pLBsn376qXbv3q2dO3fm2JaYmChXV1f5+PjYtPv7+ysxMfGGY06aNEljxozJ0b5hwwaVKlXqjmsGbiUuLq6gS0AxwVxDfmGuIb8w12C2tLQ0h41lV9iKjY1V//79dfnyZRmGoR07duiTTz7RpEmT9J///MdhxZ08eVIvvPCC4uLiVLJkSYeNO2LECMXGxlpfp6amKjg4WG3atJGfn5/D3gf4u4yMDMXFxalt27ZycXEp6HJQhDHXkF+Ya8gvzDXkl3PnzjlsLLvC1tNPPy13d3e9+uqrSktL07///W8FBQXpnXfeUffu3R1W3K5du3TmzBk1bNjQ2paZmalNmzZp5syZ+uabb3TlyhUlJyfbXN1KSkpSQEDADcd1c3OTm5tbjnYXFxd+eJEvmGvIL8w15BfmGvILcw1mc+T8sitsSVKPHj3Uo0cPpaWl6eLFiypfvrzDisp2//3351hwo0+fPqpRo4ZeeuklBQcHy8XFRevWrVOXLl0kSQcPHtSJEyfUrFkzh9cDAAAAAHll9wIZV69eVbVq1VSqVCnrc06HDx+Wi4uLQkNDHVJc6dKlVadOHZs2Dw8P+fn5WdufeuopxcbGytfXV15eXho4cKCaNWt2w8UxAAAAACA/2LX0e+/evbVly5Yc7du3b1fv3r3vtKbbMnXqVHXs2FFdunRRy5YtFRAQoKVLl+ZrDQAAAADwd3Zd2fr+++8VHh6eo/2f//ynBgwYcMdF3czGjRttXpcsWVKzZs3SrFmzTH1fAAAAALgddl3ZslgsunDhQo72lJQUZWZm3nFRAAAAAFDY2RW2WrZsqUmTJtkEq8zMTE2aNEktWrRwWHEAAAAAUFjZdRvh66+/rlatWumee+5RRESEJGnz5s1KTU3V+vXrHVogAAAAABRGdl3Zql27tn744Qd169ZNZ86c0YULF9SrVy8dOHAgx+qBAAAAAFAc3faVrYyMDLVr105z5szRxIkTzagJAAAAAAq9276y5eLioh9++MGMWgAAAACgyLDrNsKePXtq/vz5jq4FAAAAAIoMuxbIuHr1qt5//32tXbtWjRo1koeHh832KVOmOKQ4AAAAACis7ApbP/30kxo2bChJOnTokM02i8Vy51UBAAAAQCFnV9jasGGDo+sAAAAAgCLFrme2rvfbb7/pt99+c0QtAAAAAFBk2BW2srKyNHbsWHl7eyskJEQhISHy8fHRuHHjlJWV5egaAQAAAKDQses2wldeeUXz58/X66+/rvDwcElSQkKCXnvtNV2+fFkTJkxwaJEAAAAAUNjYFbY++OAD/ec//9FDDz1kbatXr54qVKigfv36EbYAAAAAFHt23UZ4/vx51ahRI0d7jRo1dP78+TsuCgAAAAAKO7vCVv369TVz5swc7TNnzlT9+vXvuCgAAAAAKOzsuo1w8uTJ6tChg9auXatmzZpJkrZu3aqTJ09q5cqVDi0QAAAAAAoju65stWrVSocOHdIjjzyi5ORkJScn69FHH9XBgwcVERHh6BoBAAAAoNC5rStbv/76q8LCwmSxWBQUFMRCGAAAAABwA7d1ZatatWr6448/rK8ff/xxJSUlObwoAAAAACjsbitsGYZh83rlypW6dOmSQwsCAAAAgKLArme2AAAAAAA3d1thy2KxyGKx5GgDAAAAANi6rQUyDMNQ79695ebmJkm6fPmynnvuOXl4eNj0W7p0qeMqBAAAAIBC6LbCVnR0tM3rnj17OrQYAAAAACgqbitsLViwwKw6AAAAAKBIYYEMAAAAADABYQsAAAAATEDYAgAAAAATELYAAAAAwASELQAAAAAwAWELAAAAAExA2AIAAAAAExC2AAAAAMAEhC0AAAAAMAFhCwAAAABMQNgCAAAAABMQtgAAAADABIQtAAAAADABYQsAAAAATEDYAgAAAAATELYAAAAAwASELQAAAAAwAWELAAAAAExA2AIAAAAAExC2AAAAAMAEhC0AAAAAMAFhCwAAAABMQNgCAAAAABMQtgAAAADABIQtAAAAADABYQsAAAAATEDYAgAAAAATELYAAAAAwASELQAAAAAwAWELAAAAAExA2AIAAAAAExC2AAAAAMAEhC0AAAAAMAFhCwAAAABMQNgCAAAAABMQtgAAAADABIQtAAAAADABYQsAAAAATEDYAgAAAAATELYAAAAAwAR3ddiaNGmSmjRpotKlS6t8+fLq3LmzDh48aNPn8uXL6t+/v/z8/OTp6akuXbooKSmpgCoGAAAAgGvu6rAVHx+v/v37a9u2bYqLi1NGRoYeeOABXbp0ydpn8ODB+u9//6vPP/9c8fHx+v333/Xoo48WYNUAAAAAIJUo6AJuZvXq1TavFy5cqPLly2vXrl1q2bKlUlJSNH/+fC1evFj33XefJGnBggWqWbOmtm3bpn/+858FUTYAAAAA3N1h6+9SUlIkSb6+vpKkXbt2KSMjQ5GRkdY+NWrUUKVKlbR169Ybhq309HSlp6dbX6empkqSMjIylJGRYVb5gHV+Mc9gNuYa8gtzDfmFuYb84sg5VmjCVlZWlmJiYhQeHq46depIkhITE+Xq6iofHx+bvv7+/kpMTLzhWJMmTdKYMWNytG/YsEGlSpVyaN1AbuLi4gq6BBQTzDXkF+Ya8gtzDWZLS0tz2FiFJmz1799fP/30kxISEu54rBEjRig2Ntb6OjU1VcHBwWrTpo38/PzueHzgRjIyMhQXF6e2bdvKxcWloMtBEcZcQ35hriG/MNeQX86dO+ewsQpF2BowYIC+/vprbdq0SRUrVrS2BwQE6MqVK0pOTra5upWUlKSAgIAbjufm5iY3N7cc7S4uLvzwIl8w15BfmGvIL8w15BfmGszmyPl1V69GaBiGBgwYoGXLlmn9+vUKCwuz2d6oUSO5uLho3bp11raDBw/qxIkTatasWX6XCwAAAABWd/WVrf79+2vx4sVasWKFSpcubX0Oy9vbW+7u7vL29tZTTz2l2NhY+fr6ysvLSwMHDlSzZs1YiRAAAABAgbqrw9bs2bMlSa1bt7ZpX7BggXr37i1Jmjp1qpycnNSlSxelp6crKipK7777bj5XCgAAAAC27uqwZRjGLfuULFlSs2bN0qxZs/KhIgAAAADIm7v6mS0AAAAAKKwIWwAAAABgAsIWAAAAAJiAsAUAAAAAJiBsAQAAAIAJCFsAAAAAYALCFgAAAACYgLAFAAAAACYgbAEAAACACQhbAAAAAGACwhYAAAAAmICwBQAAAAAmIGwBAAAAgAkIWwAAAABgAsIWAAAAAJigREEXABQamZnS5s3S6dNSYKAUESE5Oxd0VQAAALhLEbaAvFi6VHrhBem33/6/rWJF6Z13pEcfLbi6AAAAcNfiNkLgVpYulR57zDZoSdKpU9faly4tmLoAAABwVyNsATeTmXntipZh5NyW3RYTc60fAAAAcB3CFnAzmzfnvKJ1PcOQTp681g8AAAC4DmELuJnTpx3bDwAAAMUGYQu4mcBAx/YDAABAsUHYAm4mIuLaqoMWS+7bLRYpOPhaPwAAAOA6hC3gZpydry3vLuUMXNmvp03j87YAAACQA2ELuJVHH5W++EKqUMG2vWLFa+18zhYAAABywYcaA3nx6KPSww9fW3Xw9Olrz2hFRHBFCwAAADdE2ALyytlZat26oKsAAABAIcFthAAAAABgAsIWAAAAAJiAsAUAAAAAJiBsAQAAAIAJCFsAAAAAYALCFgAAAACYgLAFAAAAACYgbAEAAACACQhbAAAAAGACwhYAAAAAmICwBQAAAAAmIGwBAAAAgAkIWwAAAABgAsIWAAAAAJiAsAUAAAAAJiBsAQAAAIAJCFsAAAAAYALCFgAAAACYgLAFAAAAACYgbAEAAACACQhbAAAAAGACwhYAAAAAmICwBQAAAAAmIGwBAAAAgAkIWwAAAABgAsIWAAAAAJiAsAUAAAAAJiBsAQAAAIAJCFsAAAAAYALCFgAAAACYgLAFAAAAACYgbAEAAACACQhbAAAAAGACwhYAAAAAmICwBQAAAAAmIGwBAAAAgAkIWwAAAABgAsIWAAAAAJiAsAUAAAAAJigyYWvWrFkKDQ1VyZIl1bRpU+3YsaOgSwIAAABQjBWJsLVkyRLFxsZq9OjR2r17t+rXr6+oqCidOXOmoEsDAAAAUEwVibA1ZcoU9e3bV3369FGtWrU0Z84clSpVSu+//35BlwYAAACgmCpR0AXcqStXrmjXrl0aMWKEtc3JyUmRkZHaunVrrvukp6crPT3d+jolJUWSdP78eXOLRbGXkZGhtLQ0nTt3Ti4uLgVdDoow5hryC3MN+YW5hvySnQkMw7jjsQp92Dp79qwyMzPl7+9v0+7v768DBw7kus+kSZM0ZsyYHO3Vq1c3pUYAAAAAhcu5c+fk7e19R2MU+rBljxEjRig2Ntb6Ojk5WSEhITpx4sQdn1DgZlJTUxUcHKyTJ0/Ky8uroMtBEcZcQ35hriG/MNeQX1JSUlSpUiX5+vre8ViFPmyVLVtWzs7OSkpKsmlPSkpSQEBArvu4ubnJzc0tR7u3tzc/vMgXXl5ezDXkC+Ya8gtzDfmFuYb84uR058tbFPoFMlxdXdWoUSOtW7fO2paVlaV169apWbNmBVgZAAAAgOKs0F/ZkqTY2FhFR0ercePG+sc//qFp06bp0qVL6tOnT0GXBgAAAKCYKhJh6/HHH9cff/yhUaNGKTExUQ0aNNDq1atzLJpxI25ubho9enSutxYCjsRcQ35hriG/MNeQX5hryC+OnGsWwxFrGgIAAAAAbBT6Z7YAAAAA4G5E2AIAAAAAExC2AAAAAMAEhC0AAAAAMEGxD1uzZs1SaGioSpYsqaZNm2rHjh0FXRKKmEmTJqlJkyYqXbq0ypcvr86dO+vgwYMFXRaKgddff10Wi0UxMTEFXQqKoFOnTqlnz57y8/OTu7u76tatq++++66gy0IRk5mZqZEjRyosLEzu7u6qUqWKxo0bJ9Z3w53atGmTOnXqpKCgIFksFi1fvtxmu2EYGjVqlAIDA+Xu7q7IyEgdPnz4tt+nWIetJUuWKDY2VqNHj9bu3btVv359RUVF6cyZMwVdGoqQ+Ph49e/fX9u2bVNcXJwyMjL0wAMP6NKlSwVdGoqwnTt36r333lO9evUKuhQUQX/++afCw8Pl4uKiVatWad++fXr77bdVpkyZgi4NRcwbb7yh2bNna+bMmdq/f7/eeOMNTZ48WTNmzCjo0lDIXbp0SfXr19esWbNy3T558mRNnz5dc+bM0fbt2+Xh4aGoqChdvnz5tt6nWC/93rRpUzVp0kQzZ86UJGVlZSk4OFgDBw7U8OHDC7g6FFV//PGHypcvr/j4eLVs2bKgy0ERdPHiRTVs2FDvvvuuxo8frwYNGmjatGkFXRaKkOHDh+vbb7/V5s2bC7oUFHEdO3aUv7+/5s+fb23r0qWL3N3d9fHHHxdgZShKLBaLli1bps6dO0u6dlUrKChIQ4YM0dChQyVJKSkp8vf318KFC9W9e/c8j11sr2xduXJFu3btUmRkpLXNyclJkZGR2rp1awFWhqIuJSVFkuTr61vAlaCo6t+/vzp06GDz9xvgSF999ZUaN26srl27qnz58rr33ns1b968gi4LRVDz5s21bt06HTp0SJK0d+9eJSQk6MEHHyzgylCUHT16VImJiTb/jnp7e6tp06a3nRNKOLq4wuLs2bPKzMyUv7+/Tbu/v78OHDhQQFWhqMvKylJMTIzCw8NVp06dgi4HRdCnn36q3bt3a+fOnQVdCoqwX3/9VbNnz1ZsbKxefvll7dy5U4MGDZKrq6uio6MLujwUIcOHD1dqaqpq1KghZ2dnZWZmasKECerRo0dBl4YiLDExUZJyzQnZ2/Kq2IYtoCD0799fP/30kxISEgq6FBRBJ0+e1AsvvKC4uDiVLFmyoMtBEZaVlaXGjRtr4sSJkqR7771XP/30k+bMmUPYgkN99tlnWrRokRYvXqzatWtrz549iomJUVBQEHMNhUKxvY2wbNmycnZ2VlJSkk17UlKSAgICCqgqFGUDBgzQ119/rQ0bNqhixYoFXQ6KoF27dunMmTNq2LChSpQooRIlSig+Pl7Tp09XiRIllJmZWdAloogIDAxUrVq1bNpq1qypEydOFFBFKKqGDRum4cOHq3v37qpbt66eeOIJDR48WJMmTSro0lCEZWcBR+SEYhu2XF1d1ahRI61bt87alpWVpXXr1qlZs2YFWBmKGsMwNGDAAC1btkzr169XWFhYQZeEIur+++/Xjz/+qD179li/GjdurB49emjPnj1ydnYu6BJRRISHh+f4CItDhw4pJCSkgCpCUZWWliYnJ9tfV52dnZWVlVVAFaE4CAsLU0BAgE1OSE1N1fbt2287JxTr2whjY2MVHR2txo0b6x//+IemTZumS5cuqU+fPgVdGoqQ/v37a/HixVqxYoVKly5tvdfX29tb7u7uBVwdipLSpUvneBbQw8NDfn5+PCMIhxo8eLCaN2+uiRMnqlu3btqxY4fmzp2ruXPnFnRpKGI6deqkCRMmqFKlSqpdu7a+//57TZkyRU8++WRBl4ZC7uLFizpy5Ij19dGjR7Vnzx75+vqqUqVKiomJ0fjx41WtWjWFhYVp5MiRCgoKsq5YmFfFeul3SZo5c6befPNNJSYmqkGDBpo+fbqaNm1a0GWhCLFYLLm2L1iwQL17987fYlDstG7dmqXfYYqvv/5aI0aM0OHDhxUWFqbY2Fj17du3oMtCEXPhwgWNHDlSy5Yt05kzZxQUFKR//etfGjVqlFxdXQu6PBRiGzduVJs2bXK0R0dHa+HChTIMQ6NHj9bcuXOVnJysFi1a6N1331X16tVv632KfdgCAAAAADMU22e2AAAAAMBMhC0AAAAAMAFhCwAAAABMQNgCAAAAABMQtgAAAADABIQtAAAAADABYQsAAAAATEDYAgAAAAATELYAAHeF0NBQTZs2LV/e64knntDEiRPz3H/48OEaOHDgLfvl5zEAAO5+FsMwjIIuAgDgGL1799YHH3yQoz0qKkqrV6/O0xitW7dWgwYN8j00/PHHH/Lw8FCpUqVMfZ+9e/fqvvvu0/Hjx+Xp6Zmnfc6ePavKlStrz549qly58g375dcx2CM0NFQxMTGKiYkp6FIAoNjgyhYAFDHt2rXT6dOnbb4++eSTgi7rlsqVK5cvIWXGjBnq2rVrnoOWJJUtW1ZRUVGaPXv2Tfvl1zEUpCtXrhR0CQBQaBC2AKCIcXNzU0BAgM1XmTJlJEkbN26Uq6urNm/ebO0/efJklS9fXklJSerdu7fi4+P1zjvvyGKxyGKx6NixY5Kkn376SQ8++KA8PT3l7++vJ554QmfPnrWO07p1aw0aNEgvvviifH19FRAQoNdee8263TAMvfbaa6pUqZLc3NwUFBSkQYMGWbf//Ra8EydO6OGHH5anp6e8vLzUrVs3JSUlWbe/9tpratCggT766COFhobK29tb3bt314ULF254bjIzM/XFF1+oU6dO1rYDBw6oVKlSWrx4sbXts88+k7u7u/bt22dt69Spkz799NObnvu/H4PFYtF//vMfPfLIIypVqpSqVaumr7766pZjjB8/Xr169ZKnp6dCQkL01Vdf6Y8//rCej3r16um7776z2S8hIUERERFyd3dXcHCwBg0apEuXLkm69r05fvy4Bg8ebP2+5mW/7HrGjRunXr16ycvLS88884yuXLmiAQMGKDAwUCVLllRISIgmTZp00+MCgGLJAAAUGdHR0cbDDz980z7Dhg0zQkJCjOTkZGP37t2Gq6ursWLFCsMwDCM5Odlo1qyZ0bdvX+P06dPG6dOnjatXrxp//vmnUa5cOWPEiBHG/v37jd27dxtt27Y12rRpYx23VatWhpeXl/Haa68Zhw4dMj744APDYrEYa9asMQzDMD7//HPDy8vLWLlypXH8+HFj+/btxty5c637h4SEGFOnTjUMwzAyMzONBg0aGC1atDC+++47Y9u2bUajRo2MVq1aWfuPHj3a8PT0NB599FHjxx9/NDZt2mQEBAQYL7/88g2Pfffu3YYkIzEx0aZ91qxZhre3t3H8+HHj5MmTRpkyZYx33nnHps/+/fsNScbRo0dvOP71x2AYhiHJqFixorF48WLj8OHDxqBBgwxPT0/j3LlzNx3D19fXmDNnjnHo0CHj+eefN7y8vIx27doZn332mXHw4EGjc+fORs2aNY2srCzDMAzjyJEjhoeHhzF16lTj0KFDxrfffmvce++9Ru/evQ3DMIxz584ZFStWNMaOHWv9vuZlv+x6vLy8jLfeess4cuSIceTIEePNN980goODjU2bNhnHjh0zNm/ebCxevPiGxwQAxRVhCwCKkOjoaMPZ2dnw8PCw+ZowYYK1T3p6utGgQQOjW7duRq1atYy+ffvajNGqVSvjhRdesGkbN26c8cADD9i0nTx50pBkHDx40LpfixYtbPo0adLEeOmllwzDMIy3337bqF69unHlypVca78+qKxZs8ZwdnY2Tpw4Yd3+888/G5KMHTt2GIZxLWyVKlXKSE1NtfYZNmyY0bRp0xuen2XLlhnOzs7WkHK9Dh06GBEREcb9999vPPDAAzn6pKSkGJKMjRs33nD83MLWq6++an198eJFQ5KxatWqm47Rs2dP6+vTp08bkoyRI0da27Zu3WpIsoamp556ynjmmWdsxtm8ebPh5ORk/PXXX7nWdjv7de7c2abPwIEDjfvuuy/X8wgA+H8lCuqKGgDAHG3atMnxbJGvr6/1z66urlq0aJHq1aunkJAQTZ069ZZj7t27Vxs2bMj1OadffvlF1atXlyTVq1fPZltgYKDOnDkjSerataumTZumypUrq127dmrfvr06deqkEiVy/lO0f/9+BQcHKzg42NpWq1Yt+fj4aP/+/WrSpImka7e4lS5dOtf3y81ff/0lNzc3m9vosr3//vuqXr26nJyc9PPPP+fo4+7uLklKS0u74fi5uf6ceHh4yMvL66Y1/n0ff39/SVLdunVztJ05c0YBAQHau3evfvjhBy1atMjaxzAMZWVl6ejRo6pZs2au75PX/Ro3bmyzX+/evdW2bVvdc889ateunTp27KgHHnjgpscEAMURYQsAihgPDw9VrVr1pn22bNkiSTp//rzOnz8vDw+Pm/a/ePGiOnXqpDfeeCPHtsDAQOufXVxcbLZZLBZlZWVJkoKDg3Xw4EGtXbtWcXFx6tevn958803Fx8fn2C+vbvZ+uSlbtqzS0tJ05coVubq62mzbu3evLl26JCcnJ50+fdrmuKRr50q6tgiGmTX+fZ/s0JdbW/Y4Fy9e1LPPPmvzDFy2SpUq3fB98rrf3+dHw4YNdfToUa1atUpr165Vt27dFBkZqS+++OKmxwUAxQ1hCwCKmV9++UWDBw/WvHnztGTJEkVHR2vt2rVycrq2ZpKrq6syMzNt9mnYsKG+/PJLhYaG5nolKq/c3d3VqVMnderUSf3791eNGjX0448/qmHDhjb9atasqZMnT+rkyZPWq1v79u1TcnKyatWqZff7N2jQwDpW9p+la0Gqd+/eeuWVV3T69Gn16NFDu3fvtl7Nkq4tEOLi4qLatWvb/f5madiwofbt23fTkH2j7+ut9rsRLy8vPf7443r88cf12GOPqV27djp//rzNVVQAKO5YjRAAipj09HQlJibafGWvGpiZmamePXsqKipKffr00YIFC/TDDz/o7bfftu4fGhqq7du369ixYzp79qyysrLUv39/nT9/Xv/617+0c+dO/fLLL/rmm2/Up0+fHL/A38jChQs1f/58/fTTT/r111/18ccfy93dXSEhITn6RkZGqm7dutbQs2PHDvXq1UutWrXKcUvb7ShXrpwaNmyohIQEm/bnnntOwcHBevXVVzVlyhRlZmZq6NChNn02b95sXbXvbvPSSy9py5YtGjBggPbs2aPDhw9rxYoVGjBggLVPaGioNm3apFOnTlnnQ172y82UKVP0ySef6MCBAzp06JA+//xzBQQEyMfHx8zDBIBCh7AFAEXM6tWrFRgYaPPVokULSdKECRN0/Phxvffee5Ku3QI4d+5cvfrqq9q7d68kaejQoXJ2dlatWrVUrlw5nThxQkFBQfr222+VmZmpBx54QHXr1lVMTIx8fHysV8RuxcfHR/PmzVN4eLjq1auntWvX6r///a/8/Pxy9LVYLFqxYoXKlCmjli1bKjIyUpUrV9aSJUvu+Pw8/fTTNs8offjhh1q5cqU++ugjlShRQh4eHvr44481b948rVq1ytrv008/Vd++fe/4/c1Qr149xcfH69ChQ4qIiNC9996rUaNGKSgoyNpn7NixOnbsmKpUqWK9FTIv++WmdOnSmjx5sho3bqwmTZro2LFjWrlyZZ7nAgAUFxbDMIyCLgIAgPzy119/6Z577tGSJUvUrFmzPO2zatUqDRkyRD/88MMd3UYJAChe+C8oAECx4u7urg8//NDmA5lv5dKlS1qwYAFBCwBwW7iyBQAAAAAm4MoWAAAAAJiAsAUAAAAAJiBsAQAAAIAJCFsAAAAAYALCFgAAAACYgLAFAAAAACYgbAEAAACACQhbAAAAAGACwhYAAAAAmOD/AMZ5VbHvXd5KAAAAAElFTkSuQmCC\n"
                },
                "metadata": {}
              }
            ]
          }
        },
        "0c8684d5cb1349aa90e90296a23e6373": {
          "model_module": "@jupyter-widgets/base",
          "model_name": "LayoutModel",
          "model_module_version": "1.2.0",
          "state": {
            "_model_module": "@jupyter-widgets/base",
            "_model_module_version": "1.2.0",
            "_model_name": "LayoutModel",
            "_view_count": null,
            "_view_module": "@jupyter-widgets/base",
            "_view_module_version": "1.2.0",
            "_view_name": "LayoutView",
            "align_content": null,
            "align_items": null,
            "align_self": null,
            "border": null,
            "bottom": null,
            "display": null,
            "flex": null,
            "flex_flow": null,
            "grid_area": null,
            "grid_auto_columns": null,
            "grid_auto_flow": null,
            "grid_auto_rows": null,
            "grid_column": null,
            "grid_gap": null,
            "grid_row": null,
            "grid_template_areas": null,
            "grid_template_columns": null,
            "grid_template_rows": null,
            "height": null,
            "justify_content": null,
            "justify_items": null,
            "left": null,
            "margin": null,
            "max_height": null,
            "max_width": null,
            "min_height": null,
            "min_width": null,
            "object_fit": null,
            "object_position": null,
            "order": null,
            "overflow": null,
            "overflow_x": null,
            "overflow_y": null,
            "padding": null,
            "right": null,
            "top": null,
            "visibility": null,
            "width": null
          }
        },
        "08bee850d13541668b4e1a4bd574c733": {
          "model_module": "@jupyter-widgets/base",
          "model_name": "LayoutModel",
          "model_module_version": "1.2.0",
          "state": {
            "_model_module": "@jupyter-widgets/base",
            "_model_module_version": "1.2.0",
            "_model_name": "LayoutModel",
            "_view_count": null,
            "_view_module": "@jupyter-widgets/base",
            "_view_module_version": "1.2.0",
            "_view_name": "LayoutView",
            "align_content": null,
            "align_items": null,
            "align_self": null,
            "border": null,
            "bottom": null,
            "display": null,
            "flex": null,
            "flex_flow": null,
            "grid_area": null,
            "grid_auto_columns": null,
            "grid_auto_flow": null,
            "grid_auto_rows": null,
            "grid_column": null,
            "grid_gap": null,
            "grid_row": null,
            "grid_template_areas": null,
            "grid_template_columns": null,
            "grid_template_rows": null,
            "height": null,
            "justify_content": null,
            "justify_items": null,
            "left": null,
            "margin": null,
            "max_height": null,
            "max_width": null,
            "min_height": null,
            "min_width": null,
            "object_fit": null,
            "object_position": null,
            "order": null,
            "overflow": null,
            "overflow_x": null,
            "overflow_y": null,
            "padding": null,
            "right": null,
            "top": null,
            "visibility": null,
            "width": null
          }
        },
        "67b23efb0d4a446b988edba13e5fa287": {
          "model_module": "@jupyter-widgets/controls",
          "model_name": "SliderStyleModel",
          "model_module_version": "1.5.0",
          "state": {
            "_model_module": "@jupyter-widgets/controls",
            "_model_module_version": "1.5.0",
            "_model_name": "SliderStyleModel",
            "_view_count": null,
            "_view_module": "@jupyter-widgets/base",
            "_view_module_version": "1.2.0",
            "_view_name": "StyleView",
            "description_width": "",
            "handle_color": null
          }
        },
        "f078168ea7544c55ac63417c6b763785": {
          "model_module": "@jupyter-widgets/base",
          "model_name": "LayoutModel",
          "model_module_version": "1.2.0",
          "state": {
            "_model_module": "@jupyter-widgets/base",
            "_model_module_version": "1.2.0",
            "_model_name": "LayoutModel",
            "_view_count": null,
            "_view_module": "@jupyter-widgets/base",
            "_view_module_version": "1.2.0",
            "_view_name": "LayoutView",
            "align_content": null,
            "align_items": null,
            "align_self": null,
            "border": null,
            "bottom": null,
            "display": null,
            "flex": null,
            "flex_flow": null,
            "grid_area": null,
            "grid_auto_columns": null,
            "grid_auto_flow": null,
            "grid_auto_rows": null,
            "grid_column": null,
            "grid_gap": null,
            "grid_row": null,
            "grid_template_areas": null,
            "grid_template_columns": null,
            "grid_template_rows": null,
            "height": null,
            "justify_content": null,
            "justify_items": null,
            "left": null,
            "margin": null,
            "max_height": null,
            "max_width": null,
            "min_height": null,
            "min_width": null,
            "object_fit": null,
            "object_position": null,
            "order": null,
            "overflow": null,
            "overflow_x": null,
            "overflow_y": null,
            "padding": null,
            "right": null,
            "top": null,
            "visibility": null,
            "width": null
          }
        },
        "20381d27aa014d4bbe065f8963d29583": {
          "model_module": "@jupyter-widgets/controls",
          "model_name": "SliderStyleModel",
          "model_module_version": "1.5.0",
          "state": {
            "_model_module": "@jupyter-widgets/controls",
            "_model_module_version": "1.5.0",
            "_model_name": "SliderStyleModel",
            "_view_count": null,
            "_view_module": "@jupyter-widgets/base",
            "_view_module_version": "1.2.0",
            "_view_name": "StyleView",
            "description_width": "",
            "handle_color": null
          }
        },
        "7000bd5115994db0a13df69b02f170fa": {
          "model_module": "@jupyter-widgets/base",
          "model_name": "LayoutModel",
          "model_module_version": "1.2.0",
          "state": {
            "_model_module": "@jupyter-widgets/base",
            "_model_module_version": "1.2.0",
            "_model_name": "LayoutModel",
            "_view_count": null,
            "_view_module": "@jupyter-widgets/base",
            "_view_module_version": "1.2.0",
            "_view_name": "LayoutView",
            "align_content": null,
            "align_items": null,
            "align_self": null,
            "border": null,
            "bottom": null,
            "display": null,
            "flex": null,
            "flex_flow": null,
            "grid_area": null,
            "grid_auto_columns": null,
            "grid_auto_flow": null,
            "grid_auto_rows": null,
            "grid_column": null,
            "grid_gap": null,
            "grid_row": null,
            "grid_template_areas": null,
            "grid_template_columns": null,
            "grid_template_rows": null,
            "height": null,
            "justify_content": null,
            "justify_items": null,
            "left": null,
            "margin": null,
            "max_height": null,
            "max_width": null,
            "min_height": null,
            "min_width": null,
            "object_fit": null,
            "object_position": null,
            "order": null,
            "overflow": null,
            "overflow_x": null,
            "overflow_y": null,
            "padding": null,
            "right": null,
            "top": null,
            "visibility": null,
            "width": null
          }
        }
      }
    }
  },
  "cells": [
    {
      "cell_type": "markdown",
      "metadata": {
        "id": "view-in-github",
        "colab_type": "text"
      },
      "source": [
        "<a href=\"https://colab.research.google.com/github/walkerjian/Physics/blob/main/EMM441_A2_S4_HookesLaw.ipynb\" target=\"_parent\"><img src=\"https://colab.research.google.com/assets/colab-badge.svg\" alt=\"Open In Colab\"/></a>"
      ]
    },
    {
      "cell_type": "markdown",
      "source": [
        "#Hookes Law\n",
        "\n",
        "## Engage\n",
        "\n",
        "Start your lesson by setting up a simple demonstration. Hang a spring from a fixed point and attach various weights to it. With each weight, measure how much the spring stretches. Display these results in front of the class. Ask students to observe the changes in the length of the spring as more weight is added. Here are some questions to encourage discussion:\n",
        "\n",
        "- What do you notice about the spring as the weight increases?\n",
        "- Do you think there is a pattern in how the spring stretches with more weight?\n",
        "- What might happen if we keep adding more weight?\n",
        "\n",
        "This hands-on activity will help students visually grasp the relationship between weight (force) and spring extension.\n",
        "\n",
        "## Pose Problem\n",
        "\n",
        "Introduce Hooke's Law: It is a principle of physics that states the force $ F $ needed to extend or compress a spring by some distance $ x $ scales linearly with respect to that distance. That is, $ F = kx $, where:\n",
        "- $ F $ is the force applied to the spring,\n",
        "- $ x $ is the extension or compression of the spring (how much it stretches or shrinks),\n",
        "- $ k $ is the spring constant that depends on the material and make of the spring.\n",
        "\n",
        "Explain that this law helps in understanding how much force is needed to stretch or compress various materials, which is useful in numerous engineering and scientific applications.\n",
        "\n",
        "## Present the Function\n",
        "\n",
        "Write the formula $ F = kx $ on the board and explain each component:\n",
        "- **F (Force)**: This is the total force applied to the spring. In our case, it's due to the weights hung from the spring. This can be measured in newtons (N).\n",
        "- **x (Extension)**: This is how much the spring has stretched from its original length, measured in meters (m).\n",
        "- **k (Spring Constant)**: This is a constant for each spring, indicating how stiff the spring is. The higher the value of $ k $, the stiffer the spring, meaning it’s harder to stretch. This is measured in newtons per meter (N/m).\n",
        "\n",
        "Now, let's move to a Python code that will allow students to interactively explore Hooke's Law by changing the spring constant $ k $ and the extension $ x $ to see how it affects the force $ F $.\n",
        "\n",
        "## Python Code for Interactive Plot\n",
        "\n",
        "The following Python code uses `ipywidgets` and `matplotlib` to create an interactive plot where students can adjust $ k $ and $ x $ using sliders and observe the resulting force $ F $:\n"
      ],
      "metadata": {
        "id": "Uqk2nfgNDu7q"
      }
    },
    {
      "cell_type": "code",
      "execution_count": 1,
      "metadata": {
        "colab": {
          "base_uri": "https://localhost:8080/",
          "height": 638,
          "referenced_widgets": [
            "94ce2ba24dc44c64912c105e194951d8",
            "d2738a47701f498eb595e62fdff987e7",
            "aa55d37702c4455b832ddcaa04a46a1e",
            "5e0ab934682e4dd6ada7aa6b780777f5",
            "0c8684d5cb1349aa90e90296a23e6373",
            "08bee850d13541668b4e1a4bd574c733",
            "67b23efb0d4a446b988edba13e5fa287",
            "f078168ea7544c55ac63417c6b763785",
            "20381d27aa014d4bbe065f8963d29583",
            "7000bd5115994db0a13df69b02f170fa"
          ]
        },
        "id": "rjAg_MvUDuEA",
        "outputId": "2a84a2e9-3959-4e01-a54c-12a267089656"
      },
      "outputs": [
        {
          "output_type": "display_data",
          "data": {
            "text/plain": [
              "interactive(children=(FloatSlider(value=5.0, description='k', max=10.0, min=0.1), FloatSlider(value=5.0, descr…"
            ],
            "application/vnd.jupyter.widget-view+json": {
              "version_major": 2,
              "version_minor": 0,
              "model_id": "94ce2ba24dc44c64912c105e194951d8"
            }
          },
          "metadata": {}
        },
        {
          "output_type": "execute_result",
          "data": {
            "text/plain": [
              "<function __main__.plot_hooke_law(k, x)>"
            ],
            "text/html": [
              "<div style=\"max-width:800px; border: 1px solid var(--colab-border-color);\"><style>\n",
              "      pre.function-repr-contents {\n",
              "        overflow-x: auto;\n",
              "        padding: 8px 12px;\n",
              "        max-height: 500px;\n",
              "      }\n",
              "\n",
              "      pre.function-repr-contents.function-repr-contents-collapsed {\n",
              "        cursor: pointer;\n",
              "        max-height: 100px;\n",
              "      }\n",
              "    </style>\n",
              "    <pre style=\"white-space: initial; background:\n",
              "         var(--colab-secondary-surface-color); padding: 8px 12px;\n",
              "         border-bottom: 1px solid var(--colab-border-color);\"><b>plot_hooke_law</b><br/>def plot_hooke_law(k, x)</pre><pre class=\"function-repr-contents function-repr-contents-collapsed\" style=\"\"><a class=\"filepath\" style=\"display:none\" href=\"#\">/content/&lt;ipython-input-1-34e254b050d1&gt;</a>&lt;no docstring&gt;</pre></div>"
            ]
          },
          "metadata": {},
          "execution_count": 1
        }
      ],
      "source": [
        "import matplotlib.pyplot as plt\n",
        "import numpy as np\n",
        "from ipywidgets import interact\n",
        "\n",
        "def plot_hooke_law(k, x):\n",
        "    F = k * x  # Calculate the force based on Hooke's Law\n",
        "    plt.figure(figsize=(10, 5))\n",
        "    plt.plot(x, F, 'ro')  # Plot the force vs extension as a red dot\n",
        "    plt.xlim(0, 10)\n",
        "    plt.ylim(0, 100)\n",
        "    plt.xlabel('Extension (x) in meters')\n",
        "    plt.ylabel('Force (F) in newtons')\n",
        "    plt.title('Hooke\\'s Law Demonstration: F = kx')\n",
        "    plt.grid(True)\n",
        "    plt.show()\n",
        "\n",
        "# Create interactive sliders for spring constant and extension\n",
        "interact(plot_hooke_law, k=(0.1, 10.0, 0.1), x=(0, 10, 0.1))"
      ]
    }
  ]
}