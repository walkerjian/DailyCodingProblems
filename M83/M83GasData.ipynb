{
  "nbformat": 4,
  "nbformat_minor": 0,
  "metadata": {
    "colab": {
      "provenance": [],
      "authorship_tag": "ABX9TyOe37RpzJPMXl0sFiSkJ0zF",
      "include_colab_link": true
    },
    "kernelspec": {
      "name": "python3",
      "display_name": "Python 3"
    },
    "language_info": {
      "name": "python"
    }
  },
  "cells": [
    {
      "cell_type": "markdown",
      "metadata": {
        "id": "view-in-github",
        "colab_type": "text"
      },
      "source": [
        "<a href=\"https://colab.research.google.com/github/walkerjian/Physics/blob/main/M83GasData.ipynb\" target=\"_parent\"><img src=\"https://colab.research.google.com/assets/colab-badge.svg\" alt=\"Open In Colab\"/></a>"
      ]
    },
    {
      "cell_type": "code",
      "execution_count": 2,
      "metadata": {
        "colab": {
          "base_uri": "https://localhost:8080/"
        },
        "id": "A7mZ7TfexMC6",
        "outputId": "4bbc8349-2ea5-4540-baa8-da69b89e7254"
      },
      "outputs": [
        {
          "output_type": "stream",
          "name": "stdout",
          "text": [
            "Mounted at /content/drive\n"
          ]
        }
      ],
      "source": [
        "import numpy as np\n",
        "import random\n",
        "\n",
        "# Create the data\n",
        "data = np.zeros((5000, 3))\n",
        "for i in range(5000):\n",
        "    radius = i / 50.0\n",
        "    velocity = 50.0 / np.where(radius == 0, np.inf, radius) + random.uniform(-10.0, 10.0)\n",
        "\n",
        "    height = 1.0 + random.uniform(-0.5, 0.5)\n",
        "    data[i, :] = [radius, velocity, height]\n",
        "\n",
        "# Save the data\n",
        "np.savetxt(\"data.txt\", data, fmt=\"%.2f\")\n",
        "\n",
        "# Save the data on Google Drive\n",
        "from google.colab import drive\n",
        "drive.mount(\"/content/drive\")\n",
        "\n",
        "with open(\"/content/drive/My Drive/data.txt\", \"w\") as f:\n",
        "    np.savetxt(f, data, fmt=\"%.2f\")\n"
      ]
    }
  ]
}