{
  "nbformat": 4,
  "nbformat_minor": 0,
  "metadata": {
    "colab": {
      "provenance": [],
      "authorship_tag": "ABX9TyOUmjjENuMXcnKacpwx70XX",
      "include_colab_link": true
    },
    "kernelspec": {
      "name": "python3",
      "display_name": "Python 3"
    },
    "language_info": {
      "name": "python"
    }
  },
  "cells": [
    {
      "cell_type": "markdown",
      "metadata": {
        "id": "view-in-github",
        "colab_type": "text"
      },
      "source": [
        "<a href=\"https://colab.research.google.com/github/walkerjian/Physics/blob/main/mathFrac.ipynb\" target=\"_parent\"><img src=\"https://colab.research.google.com/assets/colab-badge.svg\" alt=\"Open In Colab\"/></a>"
      ]
    },
    {
      "cell_type": "markdown",
      "source": [
        "1. $ x = -\\frac{3}{2} - \\frac{\\sqrt{5}}{2} $\n",
        "2. $ x = -\\frac{3}{2} + \\frac{\\sqrt{5}}{2} $\n",
        "3. $ x = -\\frac{3}{2} - \\frac{\\sqrt{23}i}{2} $\n",
        "4. $ x = -\\frac{3}{2} + \\frac{\\sqrt{23}i}{2} $"
      ],
      "metadata": {
        "id": "rh5_nWE062cv"
      }
    },
    {
      "cell_type": "code",
      "execution_count": null,
      "metadata": {
        "id": "hQGgDvWg61Je"
      },
      "outputs": [],
      "source": []
    }
  ]
}