{
  "nbformat": 4,
  "nbformat_minor": 0,
  "metadata": {
    "colab": {
      "provenance": [],
      "authorship_tag": "ABX9TyPf+6oGHPCCT9+PdaN4RqrK",
      "include_colab_link": true
    },
    "kernelspec": {
      "name": "python3",
      "display_name": "Python 3"
    },
    "language_info": {
      "name": "python"
    }
  },
  "cells": [
    {
      "cell_type": "markdown",
      "metadata": {
        "id": "view-in-github",
        "colab_type": "text"
      },
      "source": [
        "<a href=\"https://colab.research.google.com/github/walkerjian/Physics/blob/main/EMM441_timeWarp.ipynb\" target=\"_parent\"><img src=\"https://colab.research.google.com/assets/colab-badge.svg\" alt=\"Open In Colab\"/></a>"
      ]
    },
    {
      "cell_type": "markdown",
      "source": [
        "#Problem:\n",
        "We often explore four types of function translations: reflections across the x-axis, vertical stretches, horizontal shifts, and vertical shifts.  For a function f(x), a translated function g(x) often takes the form g(x)=a f(x+b)+c.  Explore the following functions, using the appropriate sliders, to determine how the values of a, b, and c define function translations for many functions.\n",
        "\n",
        "1)   Define a in terms of the four function translations mentioned above.\n",
        "2)   Define b in terms of the four function translations mentioned above.\n",
        "3)   Define c in terms of the four function translations mentioned above."
      ],
      "metadata": {
        "id": "tH7CkhIN6Ovd"
      }
    },
    {
      "cell_type": "markdown",
      "source": [
        "##Solution:\n",
        "Function translations are ways of modifying a function $ f(x) $ to shift its graph around the coordinate plane, flip it, stretch it, or compress it. The general form of a translated function $ g(x) $ as $ g(x) = a f(x+b) + c $ incorporates different parameters ($ a $, $ b $, and $ c $) to control these transformations. Here’s how each parameter affects the function:\n",
        "\n",
        "### 1) Define $ a $ in terms of the four function translations:\n",
        "- **Reflections across the x-axis**: If $ a $ is negative, then the graph of $ f(x) $ is reflected across the x-axis. For example, if $ a = -1 $, the function $ g(x) = -f(x) $ is the reflection of $ f(x) $ across the x-axis.\n",
        "- **Vertical stretches and compressions**: The absolute value of $ a $ determines the vertical stretch or compression. If $ |a| > 1 $, the graph of $ f(x) $ is stretched vertically by a factor of $ a $, making it taller. If $ |a| < 1 $, the graph is compressed vertically by a factor of $ a $, making it shorter.\n",
        "\n",
        "### 2) Define $ b $ in terms of the four function translations:\n",
        "- **Horizontal shifts**: The value of $ b $ shifts the graph of $ f(x) $ horizontally. If $ b > 0 $, the graph of $ f(x) $ is shifted to the left by $ b $ units (because $ x + b $ becomes smaller sooner). If $ b < 0 $, the graph is shifted to the right by $ |b| $ units. This is because the function $ f(x) $ starts getting evaluated at points $ x $ that are effectively $ |b| $ units to the right of where they would be without the translation.\n",
        "\n",
        "### 3) Define $ c $ in terms of the four function translations:\n",
        "- **Vertical shifts**: The value of $ c $ shifts the graph of $ f(x) $ vertically. If $ c > 0 $, the entire graph is lifted upwards by $ c $ units. If $ c < 0 $, it is shifted downwards by $ |c| $ units. This translation does not alter the shape of the graph; it only moves it up or down along the y-axis.\n",
        "\n",
        "Using a tool like GeoGebra with sliders to adjust $ a $, $ b $, and $ c $ allows for a dynamic exploration of these transformations, providing visual insight into how each parameter changes the graph. Adjusting these sliders in real-time can demonstrate how complex combinations of these transformations affect the graph, providing a deeper understanding of function translations."
      ],
      "metadata": {
        "id": "itQ9Rbxe6Twn"
      }
    },
    {
      "cell_type": "markdown",
      "source": [
        "##Implementation:"
      ],
      "metadata": {
        "id": "Cb3P4iVt6W-J"
      }
    },
    {
      "cell_type": "code",
      "source": [],
      "metadata": {
        "id": "lve1Yewi6N4N"
      },
      "execution_count": null,
      "outputs": []
    },
    {
      "cell_type": "markdown",
      "source": [
        "##Testing:"
      ],
      "metadata": {
        "id": "rmascGp76a_Q"
      }
    },
    {
      "cell_type": "code",
      "execution_count": null,
      "metadata": {
        "id": "kVX9PbNY6M7_"
      },
      "outputs": [],
      "source": []
    }
  ]
}