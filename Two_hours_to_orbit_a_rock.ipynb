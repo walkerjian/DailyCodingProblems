{
  "nbformat": 4,
  "nbformat_minor": 0,
  "metadata": {
    "colab": {
      "provenance": [],
      "authorship_tag": "ABX9TyMCe4f9nIhKis99d3PI0okf",
      "include_colab_link": true
    },
    "kernelspec": {
      "name": "python3",
      "display_name": "Python 3"
    },
    "language_info": {
      "name": "python"
    }
  },
  "cells": [
    {
      "cell_type": "markdown",
      "metadata": {
        "id": "view-in-github",
        "colab_type": "text"
      },
      "source": [
        "<a href=\"https://colab.research.google.com/github/walkerjian/Physics/blob/main/Two_hours_to_orbit_a_rock.ipynb\" target=\"_parent\"><img src=\"https://colab.research.google.com/assets/colab-badge.svg\" alt=\"Open In Colab\"/></a>"
      ]
    },
    {
      "cell_type": "markdown",
      "source": [
        "# It takes 2 hours to orbit 'at the surface' of any object made of rock!"
      ],
      "metadata": {
        "id": "eKQQnW1LgbU5"
      }
    },
    {
      "cell_type": "markdown",
      "source": [
        "I encountered a delightful little astrodynamics proof last week when an astronaut casually stated it as a fact, and when I looked skeptical, he just smiled and said, \"Check it yourself.\" Here's the statement: \"It takes 2 hours to orbit at the surface of any object made of rock\""
      ],
      "metadata": {
        "id": "BTfcn6cSgRDe"
      }
    },
    {
      "cell_type": "markdown",
      "source": [
        "To evaluate the statement \"It takes 2 hours to orbit at the surface of any object made of rock,\" we'll need to derive the orbital period for a satellite orbiting just above the surface of a spherical object made of rock. This involves some basic astrodynamics principles.\n",
        "\n",
        "We'll assume:\n",
        "- The object is a perfect sphere.\n",
        "- The object is homogeneous and made of rock, with a typical rock density.\n",
        "\n",
        "Here's the general plan:\n",
        "1. Calculate the mass of the object using its density and volume.\n",
        "2. Use the mass to find the gravitational parameter.\n",
        "3. Determine the orbital radius (which is the same as the object's radius).\n",
        "4. Use Kepler's third law to calculate the orbital period.\n",
        "5. Check if the orbital period is approximately 2 hours.\n",
        "\n",
        "Let's start by defining the density of rock. The average density of rock is approximately 3000 kg/m³.\n",
        "\n",
        "We'll write the Python code to perform these calculations:\n",
        "This code will calculate the orbital period for three different radii: the radius of Earth, the Moon, and a hypothetical object with a radius of 1,000 km. You can add or modify radii as needed to test other objects.\n",
        "\n",
        "The expected output will help us determine whether the statement \"It takes 2 hours to orbit at the surface of any object made of rock\" is true or not. If all calculated periods are approximately 2 hours, the statement holds; otherwise, it doesn't."
      ],
      "metadata": {
        "id": "4cx7Seofgjqc"
      }
    },
    {
      "cell_type": "code",
      "execution_count": 1,
      "metadata": {
        "colab": {
          "base_uri": "https://localhost:8080/"
        },
        "id": "7ph8-kRCgHYh",
        "outputId": "e0d40a73-828c-4379-cf53-ca5a6d05ac19"
      },
      "outputs": [
        {
          "output_type": "stream",
          "name": "stdout",
          "text": [
            "Radius: 6371.0 km, Orbital Period: 1.91 hours\n",
            "Radius: 1737.1 km, Orbital Period: 1.91 hours\n",
            "Radius: 1000.0 km, Orbital Period: 1.91 hours\n"
          ]
        }
      ],
      "source": [
        "import math\n",
        "\n",
        "# Constants\n",
        "density_rock = 3000  # Density of rock in kg/m^3\n",
        "G = 6.67430e-11  # Gravitational constant in m^3 kg^-1 s^-2\n",
        "\n",
        "def calculate_orbital_period(radius):\n",
        "    # Calculate the mass of the spherical object\n",
        "    volume = (4/3) * math.pi * radius**3\n",
        "    mass = density_rock * volume\n",
        "\n",
        "    # Calculate the gravitational parameter (mu)\n",
        "    mu = G * mass\n",
        "\n",
        "    # Calculate the orbital period using Kepler's third law\n",
        "    # T = 2 * pi * sqrt(r^3 / mu)\n",
        "    period = 2 * math.pi * math.sqrt(radius**3 / mu)\n",
        "\n",
        "    return period\n",
        "\n",
        "# Test for different radii (e.g., radius of Earth, Moon, and other rocky objects)\n",
        "radii = [6371000, 1737100, 1000000]  # Radii in meters (Earth, Moon, and a hypothetical 1,000 km radius object)\n",
        "periods = [calculate_orbital_period(radius) for radius in radii]\n",
        "\n",
        "# Convert periods from seconds to hours\n",
        "periods_hours = [period / 3600 for period in periods]\n",
        "\n",
        "# Print the results\n",
        "for radius, period in zip(radii, periods_hours):\n",
        "    print(f\"Radius: {radius/1000} km, Orbital Period: {period:.2f} hours\")\n"
      ]
    },
    {
      "cell_type": "markdown",
      "source": [
        "Great! The results indicate that the orbital period for objects with different radii but made of rock is approximately 1.91 hours, which is close to the 2-hour mark stated in the original statement.\n",
        "\n",
        "Let's delve a bit deeper into why this happens and generalize the calculations to see if the orbital period is consistently around 2 hours for any rocky object.\n",
        "\n",
        "### Explanation\n",
        "1. **Volume and Mass**:\n",
        "   The mass $M$ of a spherical object is calculated using its volume $V$ and density $\\rho$:\n",
        "   $$\n",
        "   V = \\frac{4}{3} \\pi R^3\n",
        "   $$\n",
        "   $$\n",
        "   M = \\rho V = \\rho \\left( \\frac{4}{3} \\pi R^3 \\right)\n",
        "   $$\n",
        "\n",
        "\n",
        "2. **Gravitational Parameter**:\n",
        "   The gravitational parameter $\\mu$ (standard gravitational parameter) is:\n",
        "   $$\n",
        "   \\mu = G M = G \\rho \\left( \\frac{4}{3} \\pi R^3 \\right)\n",
        "   $$\n",
        "\n",
        "\n",
        "3. **Orbital Period**:\n",
        "   Using Kepler's third law, the orbital period $T$ for a circular orbit at the surface of the sphere (orbital radius $R$) is:\n",
        "\n",
        "   $$\n",
        "   T = 2 \\pi \\sqrt{\\frac{R^3}{\\mu}} = 2 \\pi \\sqrt{\\frac{R^3}{G \\rho \\left( \\frac{4}{3} \\pi R^3 \\right)}} = 2 \\pi \\sqrt{\\frac{1}{G \\rho \\left( \\frac{4}{3} \\pi \\right)}}\n",
        "   $$\n",
        "\n",
        "   Notice that $R$ cancels out, meaning the orbital period $T$ depends only on the density $\\rho$ and gravitational constant $G$, not on the radius $R$.\n",
        "\n",
        "\n",
        "4. **Simplified Formula**:\n",
        "   Let's simplify the formula:\n",
        "\n",
        "   $$\n",
        "   T = 2 \\pi \\sqrt{\\frac{3}{4 \\pi G \\rho}}\n",
        "   $$\n",
        "\n",
        "   For $\\rho = 3000 \\, \\text{kg/m}^3$:\n",
        "\n",
        "   $$\n",
        "   T \\approx 2 \\pi \\sqrt{\\frac{3}{4 \\pi (6.67430 \\times 10^{-11} \\, \\text{m}^3 \\text{kg}^{-1} \\text{s}^{-2}) (3000 \\, \\text{kg/m}^3)}}\n",
        "   $$"
      ],
      "metadata": {
        "id": "fQ0a6pEEhBcY"
      }
    },
    {
      "cell_type": "markdown",
      "source": [
        "Let's compute this to verify if it's close to 2 hours."
      ],
      "metadata": {
        "id": "KRJRyrIVjFMu"
      }
    },
    {
      "cell_type": "code",
      "source": [
        "# Constants\n",
        "density_rock = 3000  # Density of rock in kg/m^3\n",
        "G = 6.67430e-11  # Gravitational constant in m^3 kg^-1 s^-2\n",
        "pi = math.pi\n",
        "\n",
        "# Calculate the orbital period using the simplified formula\n",
        "T = 2 * pi * math.sqrt(3 / (4 * pi * G * density_rock))\n",
        "\n",
        "# Convert the period from seconds to hours\n",
        "T_hours = T / 3600\n",
        "\n",
        "T_hours"
      ],
      "metadata": {
        "colab": {
          "base_uri": "https://localhost:8080/"
        },
        "id": "ql50-TUEhIuE",
        "outputId": "48d7a455-97b4-459d-d342-4d3297de3135"
      },
      "execution_count": 2,
      "outputs": [
        {
          "output_type": "execute_result",
          "data": {
            "text/plain": [
              "1.9057659962346944"
            ]
          },
          "metadata": {},
          "execution_count": 2
        }
      ]
    },
    {
      "cell_type": "code",
      "source": [
        "print(f\"Theoretical Orbital Period: {T_hours:.2f} hours\")\n"
      ],
      "metadata": {
        "colab": {
          "base_uri": "https://localhost:8080/"
        },
        "id": "NUjYb59pikB6",
        "outputId": "7da74ee3-2d2a-4068-b7c3-3cada2942b62"
      },
      "execution_count": 3,
      "outputs": [
        {
          "output_type": "stream",
          "name": "stdout",
          "text": [
            "Theoretical Orbital Period: 1.91 hours\n"
          ]
        }
      ]
    },
    {
      "cell_type": "markdown",
      "source": [
        "Let's see the exact theoretical period:\n",
        "\n",
        "\n",
        "\n",
        "This should confirm the result. From the earlier results and the theoretical calculation, it seems that the orbital period for an object made of rock is indeed approximately 1.91 hours, not exactly 2 hours, but very close. This demonstrates the astronaut's statement was quite accurate, though not perfectly precise."
      ],
      "metadata": {
        "id": "0lJeHeaxi4qD"
      }
    },
    {
      "cell_type": "code",
      "source": [
        "import math\n",
        "\n",
        "# Constants\n",
        "density_rock = 3000  # Density of rock in kg/m^3\n",
        "G = 6.67430e-11  # Gravitational constant in m^3 kg^-1 s^-2\n",
        "pi = math.pi\n",
        "\n",
        "# Calculate the orbital period using the simplified formula\n",
        "T = 2 * pi * math.sqrt(3 / (4 * pi * G * density_rock))\n",
        "\n",
        "# Convert the period from seconds to hours\n",
        "T_hours = T / 3600\n",
        "\n",
        "T_hours"
      ],
      "metadata": {
        "colab": {
          "base_uri": "https://localhost:8080/"
        },
        "id": "NoeFPLbki77q",
        "outputId": "d9f473e6-c62a-4977-abe6-6e915ee19993"
      },
      "execution_count": 4,
      "outputs": [
        {
          "output_type": "execute_result",
          "data": {
            "text/plain": [
              "1.9057659962346944"
            ]
          },
          "metadata": {},
          "execution_count": 4
        }
      ]
    }
  ]
}