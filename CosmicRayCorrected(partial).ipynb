{
  "nbformat": 4,
  "nbformat_minor": 0,
  "metadata": {
    "colab": {
      "provenance": [],
      "authorship_tag": "ABX9TyPI/am6WedwpsacBbYQvbNz",
      "include_colab_link": true
    },
    "kernelspec": {
      "name": "python3",
      "display_name": "Python 3"
    },
    "language_info": {
      "name": "python"
    }
  },
  "cells": [
    {
      "cell_type": "markdown",
      "metadata": {
        "id": "view-in-github",
        "colab_type": "text"
      },
      "source": [
        "<a href=\"https://colab.research.google.com/github/walkerjian/Physics/blob/main/CosmicRayCorrected(partial).ipynb\" target=\"_parent\"><img src=\"https://colab.research.google.com/assets/colab-badge.svg\" alt=\"Open In Colab\"/></a>"
      ]
    },
    {
      "cell_type": "markdown",
      "source": [
        "Since the telescope is vertical, it removes the necessity of having to account for variation of intensity with zenith angle as the telescope is moved.\n",
        "\n",
        "Now, if $n$ is the count rate then:\n",
        "$$dn=I_vcos^2ϕ d\\Omega dA cosϕ$$\n",
        "\n",
        "\\begin{aligned}\n",
        "dQ &= \\text{Solid angle subtended by } dA, \\\\\n",
        "dA &= \\text{elemental area in \"tube\" } B.\n",
        "\\end{aligned}\n",
        "\n",
        "\n",
        "Hence $$ n = I_v \\iint d \\Omega dA \\cos^3 \\phi $$ and from the definition of solid angle:\n",
        "\n",
        "$$\n",
        "d \\Omega = \\frac{\\text{element of area}}{r^2}\n",
        "$$\n",
        "\n",
        "From figure (2) it will be seen that $da$$db$ are at angles $ϕ$, $θ$ wrt $dx$, $dy$.\n",
        "\n",
        "Now with $r$ defined as per the diagram, we have $$d \\Omega = \\frac{cosθ cosϕ da db}{r^2}$$\n",
        "\n",
        "Integrating over both tubes we have:\n",
        "\n",
        "$$\n",
        "n=I_v \\int_0^l \\int_0^w \\int_{-x}^{l-x} \\int_{-y}^{w-y} \\frac{\\cos ^2 \\phi \\cos ^2 \\theta \\cos ^2 \\phi}{r^2} d b d a d y d x\n",
        "$$\n",
        "\n",
        "You will notice that I have included a $cos^2 \\phi$ term to account for the intensity distribution of $I$ with $cos^2 \\phi$. The corresponding term in $cos^2 \\theta$ has been neglected as it is not considered necessary to provide sufficient accuracy.\n",
        "\n",
        "Hence the equation above reduces immediately to:\n"
      ],
      "metadata": {
        "id": "qQO003SkrV2w"
      }
    },
    {
      "cell_type": "markdown",
      "source": [
        "Derivation of Coincidence count rate\n",
        "$$n=I \\omega^2 \\int_0^2 \\int_{-\\infty}^2 \\frac{\\cos ^4 \\phi}{r^2} d a d x$$\n",
        " if the width is assumed small enough to ignore $\\cos \\theta$ factor.\n",
        " Now replacing\n",
        " $r^2$ by $D^2+a^2$ and $cosθ = \\frac{D}{\\sqrt{D^2+a^2}}$ from trigonometry\n",
        "\n",
        "We now have\n",
        "$$\n",
        "n=I \\omega^2 D^4 \\int_0^L \\int_{-x}^{L-x} \\frac{1}{\\left(D^2+a^2\\right)^3} dadx $$\n",
        "\n",
        "now\n",
        "$$\n",
        "\\int \\frac{d a}{\\left(D^2+a^2\\right)^3}=\\frac{1}{D^2}\\left\\{\\frac{a}{4\\left(D^2+a^2\\right)^2}+\\frac{3}{4} \\int \\frac{d a}{\\left(D^2+a^2\\right)^2}\\right\\}\n",
        "$$\n",
        "from fundamental reduction formulas\n",
        "\n",
        "and\n",
        "$$\n",
        "\\int \\frac{d a}{\\left(D^2+a^2\\right)^2}=\\frac{1}{D^2}\\left\\{\\frac{a}{2\\left(D^2+a^2\\right)}+\\frac{1}{2} \\int \\frac{d a}{\\left(D^2+a^2\\right)}\\right\\}\n",
        "$$\n",
        "\n",
        "\n",
        "and\n",
        "$$\n",
        "\\int \\frac{d a}{D^2+a^2}=\\frac{1}{D} \\tan ^{-1}\\left(\\frac{a}{D}\\right)\n",
        "$$\n",
        "Standard Integral\n",
        "\n",
        "$$\n",
        "=\\frac{1}{4 D^2}\\left[\\frac{a}{\\left(D^2+a^2\\right)^2}+\\frac{3}{2 D^2} \\frac{a}{D^2+a^2}+\\frac{3}{2 D^3} \\tan ^{-1}(a / D)\\right]\n",
        "$$\n",
        "\n",
        "hence\n",
        "$$\n",
        "I \\omega^2 D^4 \\int_0^l \\int_{-x}^{l-x} \\frac{d a d x}{\\left(D^2+a^2\\right)^3}=\\frac{I \\omega^2 D^2}{4} \\int_0^l\\left[\\frac{a}{\\left(D^2+a^2\\right)^2}+\\frac{3}{2 D^2} \\frac{a}{D^2+a^2}+\\frac{3}{2D^3} \\tan ^{-1} (\\frac{a}{D})\\right] dx\n",
        "$$\n",
        "\n",
        "$$\n",
        "\\begin{aligned}\n",
        "& =\\frac{I \\omega^2 D^2}{4} \\int_0^l\\left[\\left(\\frac{l-x}{\\left(D^2+(l-x)^2\\right)^2}+\\frac{3}{2 D^2} \\frac{l-x}{D^2+(l-x)^2}+\\frac{3}{2D^3} \\tan ^{-1}\\frac{l-x}{D}\\right)\\right.\n",
        "\\end{aligned}\n",
        "\\\\\n",
        "\\begin{aligned}\n",
        "& \\left.-\\left(\\frac{-x}{\\left(D^2+x^2\\right)^2}+\\frac{3}{2 D^2} \\frac{-x}{D^2+x^2}+\\frac{3}{2 D^3} \\tan ^{-1}(-x / D)\\right)\\right] d x \\\\\n",
        "\\end{aligned}\n",
        "$$\n",
        "\n",
        "$$\n",
        "\\begin{aligned}\n",
        "& =\\frac{I w^2 D^2}{4}\\left(\\int_0^l \\frac{l-x}{\\left(D^2+(l-x)^2\\right)^2} d x+\\int_0^l \\frac{x}{\\left(D^2+x^2\\right)^2} d x+\\frac{3}{2D^2} \\left\\{\\int_0^l \\frac{l-x}{\\left(D^2+(l-x)^2\\right.} d x+\\int_0^l \\frac{x}{\\left(D^2+x^2\\right)} d x\\right.\\right\\} \\\\\n",
        "& \\left.+\\frac{3}{2D^3}\\left\\{\\int_0^l \\tan ^{-1}\\left(\\frac{l-x}{D}\\right) d x+\\int_0^l \\tan ^{-1}\\left(\\frac{x}{D}\\right) d x\\right\\}\\right) \\\\\n",
        "\\end{aligned}\n",
        "$$"
      ],
      "metadata": {
        "id": "eIQLULg03TH3"
      }
    }
  ]
}